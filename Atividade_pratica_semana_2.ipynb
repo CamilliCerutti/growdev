{
  "nbformat": 4,
  "nbformat_minor": 0,
  "metadata": {
    "colab": {
      "provenance": [],
      "collapsed_sections": [
        "Fi0lZo1Apqjt",
        "UwCo9JKJuyi9",
        "nqHDdccbvLzS",
        "u36zZ729w0KK",
        "1twaBJLe3HIB"
      ],
      "authorship_tag": "ABX9TyP+nOWqXhpK3wabFUIUGnvc",
      "include_colab_link": true
    },
    "kernelspec": {
      "name": "python3",
      "display_name": "Python 3"
    },
    "language_info": {
      "name": "python"
    }
  },
  "cells": [
    {
      "cell_type": "markdown",
      "metadata": {
        "id": "view-in-github",
        "colab_type": "text"
      },
      "source": [
        "<a href=\"https://colab.research.google.com/github/CamilliCerutti/growdev/blob/main/Atividade_pratica_semana_2.ipynb\" target=\"_parent\"><img src=\"https://colab.research.google.com/assets/colab-badge.svg\" alt=\"Open In Colab\"/></a>"
      ]
    },
    {
      "cell_type": "markdown",
      "source": [
        "# 1 - Conversão de graus Celsius para Fahrenheit\n",
        "\n",
        "– Crie um programa que converta graus Celsius em Fahrenheit. A fórmula é a seguinte:\n",
        "\n",
        "F = 9\n",
        "— C + 32\n",
        "5\n",
        "\n",
        "O programa deve solicitar ao usuário que insira uma temperatura em graus Celsius e, em\n",
        "seguida, exiba a temperatura convertida em Fahrenheit. Após construir esse programa,\n",
        "modifique-o para que converta graus Fahrenheit em graus Celsius."
      ],
      "metadata": {
        "id": "Fi0lZo1Apqjt"
      }
    },
    {
      "cell_type": "markdown",
      "source": [
        "Convertendo de Fahrenheit para celsius"
      ],
      "metadata": {
        "id": "xgChmBXgs17k"
      }
    },
    {
      "cell_type": "code",
      "execution_count": null,
      "metadata": {
        "colab": {
          "base_uri": "https://localhost:8080/"
        },
        "id": "j2e_ifBspjCi",
        "outputId": "bf9a6309-9ca2-4d10-9827-9ff870d4a635"
      },
      "outputs": [
        {
          "name": "stdout",
          "output_type": "stream",
          "text": [
            "Digite o Grau em Fahrenheit: 23\n"
          ]
        },
        {
          "output_type": "execute_result",
          "data": {
            "text/plain": [
              "-5.0"
            ]
          },
          "metadata": {},
          "execution_count": 2
        }
      ],
      "source": [
        "t_f = int(input(\"Digite o Grau em Fahrenheit: \"))\n",
        "conversao = ((t_f - 32) / 9) * 5\n",
        "conversao"
      ]
    },
    {
      "cell_type": "markdown",
      "source": [
        "Convertendo de Celsius para Fahrenheit"
      ],
      "metadata": {
        "id": "QtpF6YUgtTja"
      }
    },
    {
      "cell_type": "code",
      "source": [
        "t_c = int(input(\"Digite o Grau em Celsius: \"))\n",
        "conversao = ((t_c / 5) * 9) + 32\n",
        "conversao"
      ],
      "metadata": {
        "colab": {
          "base_uri": "https://localhost:8080/"
        },
        "id": "pig1QuJxtX7c",
        "outputId": "5db81347-0da8-4176-c1d5-3bf242a26567"
      },
      "execution_count": null,
      "outputs": [
        {
          "name": "stdout",
          "output_type": "stream",
          "text": [
            "Digite o Grau em Celsius: 10\n"
          ]
        },
        {
          "output_type": "execute_result",
          "data": {
            "text/plain": [
              "50.0"
            ]
          },
          "metadata": {},
          "execution_count": 7
        }
      ]
    },
    {
      "cell_type": "markdown",
      "source": [
        "# 2- Escreva um programa que receba um número e escreva “Par” caso esse número seja par e escreva “Impar” caso esse número seja impar."
      ],
      "metadata": {
        "id": "UwCo9JKJuyi9"
      }
    },
    {
      "cell_type": "code",
      "source": [
        "numero = int(input(\"Digite Um numero: \"))\n",
        "\n",
        "if(numero % 2 == 0):\n",
        "  print(\"Numero é par\")\n",
        "else:\n",
        "  print(\"Numero é impar\")"
      ],
      "metadata": {
        "colab": {
          "base_uri": "https://localhost:8080/"
        },
        "id": "IUKXkqYNu4WS",
        "outputId": "7f455435-e881-465d-eb80-7cf7b5cae89b"
      },
      "execution_count": null,
      "outputs": [
        {
          "output_type": "stream",
          "name": "stdout",
          "text": [
            "Digite Um numero: 3\n",
            "Numero é impar\n"
          ]
        }
      ]
    },
    {
      "cell_type": "markdown",
      "source": [
        "# 3 - Escreva um programa que receba dois números, exiba as opções:\n",
        "1 - adição\n",
        "\n",
        "2 - subtração\n",
        "\n",
        "Então peça ao usuário para escolher uma das opções.\n",
        "\n",
        "Caso escolha a opção 1 o programa deve realizar a soma dos dois números lidos e exibir.\n",
        "\n",
        "Caso escolha a opção 2 o programa\n",
        "deve realizar a subtração dos dois números lidos e exibir."
      ],
      "metadata": {
        "id": "nqHDdccbvLzS"
      }
    },
    {
      "cell_type": "code",
      "source": [
        "numero_1 = int(input(\"Digite o primeiro numero: \"))\n",
        "numero_2 = int(input(\"Digite o Segundo numero: \"))\n",
        "\n",
        "print(\"---Menu de opcões---\\n1 - Adição\\n2 - Subtração\")\n",
        "opcao = int(input(\"O que você deseja fazer? Digite 1 ou 2: \"))\n",
        "\n",
        "operacao = 0\n",
        "\n",
        "if(opcao == 1):\n",
        "  operacao = numero_1 + numero_2\n",
        "  print(f\"A Você Selecionou Adição! A soma dos numeros é: {operacao}\")\n",
        "else:\n",
        "  operacao = numero_1 - numero_2\n",
        "  print(f\"A Você Selecionou Subtração! A Subtração dos numeros é: {operacao}\")"
      ],
      "metadata": {
        "colab": {
          "base_uri": "https://localhost:8080/"
        },
        "id": "3oviLFAmvZiI",
        "outputId": "4caf6ed3-2778-41a9-9d79-f591cd2eea3a"
      },
      "execution_count": null,
      "outputs": [
        {
          "output_type": "stream",
          "name": "stdout",
          "text": [
            "Digite o primeiro numero: 15\n",
            "Digite o Segundo numero: 5\n",
            "---Menu de opcões---\n",
            "1 - Adição\n",
            "2 - Subtração\n",
            "O que você deseja fazer? Digite 1 ou 2: 2\n",
            "A Você Selecionou Subtração! A Subtração dos numeros é: 10\n"
          ]
        }
      ]
    },
    {
      "cell_type": "markdown",
      "source": [
        "# 4 - Numa determinada escola, os critérios de aprovação são os seguintes:\n",
        "- O aluno deve ter, no máximo, 25% de faltas;\n",
        "- A nota final deve ser igual ou superior a 7,00.\n",
        "\n",
        "Construa um programa para ler\n",
        "- as notas que um aluno tirou nos 4 bimestres\n",
        "- o número total de aulas e o número de faltas\n",
        "\n",
        "mostrando ao final a situação do aluno como sendo “Aprovado”, “Reprovado por Faltas” e “Reprovado por média”, considerando que a reprovação por faltas se sobrepõe a reprovação por nota."
      ],
      "metadata": {
        "id": "u36zZ729w0KK"
      }
    },
    {
      "cell_type": "code",
      "source": [
        "soma = 0\n",
        "for i in range(4):\n",
        "  nota = float(input(f\"Digite a nota do Bimestre {i + 1}: \"))\n",
        "  soma += nota\n",
        "\n",
        "media = soma / 4\n",
        "\n",
        "aulas = int(input(\"Qual a quantidade total de aulas no Ano: \"))\n",
        "faltas = int(input(\"Qual a quantidade total de faltas no Ano: \"))\n",
        "percentual= aulas * 0.25\n",
        "\n",
        "if(faltas > percentual):\n",
        "  print(f\"Percentual de faltas: {percentual}% - Aluno reprovado por Faltas\")\n",
        "elif(media < 7):\n",
        "  print(f\"Nota do aluno: {media} - Aluno Reprovado por Média\")\n",
        "else:\n",
        "  print(\"Aluno Aprovado\")"
      ],
      "metadata": {
        "colab": {
          "base_uri": "https://localhost:8080/"
        },
        "id": "bJ8jTPMOvotm",
        "outputId": "e4139074-ae23-4e9c-dd75-7a3790c31238"
      },
      "execution_count": null,
      "outputs": [
        {
          "output_type": "stream",
          "name": "stdout",
          "text": [
            "Digite a nota do Bimestre 1: 10\n",
            "Digite a nota do Bimestre 2: 10\n",
            "Digite a nota do Bimestre 3: 15\n",
            "Digite a nota do Bimestre 4: 10\n",
            "Qual a quantidade total de aulas no Ano: 100\n",
            "Qual a quantidade total de faltas no Ano: 24\n",
            "Aluno Aprovado\n"
          ]
        }
      ]
    },
    {
      "cell_type": "markdown",
      "source": [
        "# 5 - Após construir o programa anterior, crie mais duas versões dele para prever as seguintes situações:\n",
        "- Um aluno pode ficar em recuperação se possuir frequência suficiente (superior a 75%) e média superior a 5 mas inferior a 7;\n",
        "- Caso um aluno reprove por média e faltas, sua situação deve ser “Reprovado por\n",
        "Média e Faltas” (ao invés de simplesmente “Reprovado por Faltas” como antes)."
      ],
      "metadata": {
        "id": "6yTIkiXq1Mvw"
      }
    },
    {
      "cell_type": "code",
      "source": [
        "soma = 0\n",
        "for i in range(4):\n",
        "  nota = float(input(f\"Digite a nota do Bimestre {i + 1}: \"))\n",
        "  soma += nota\n",
        "\n",
        "media = soma / 4\n",
        "\n",
        "aulas = int(input(\"Qual a quantidade total de aulas no Ano: \"))\n",
        "faltas = int(input(\"Qual a quantidade total de faltas no Ano: \"))\n",
        "percentual= aulas * 0.25\n",
        "\n",
        "\n",
        "if(faltas < percentual) and (media > 5 and media < 7):\n",
        "  print(\"Aluno em Recuperação!\")\n",
        "elif(faltas > percentual and media <= 5):\n",
        "  print(\"Aluno Reprovado por Média e Faltas\")\n",
        "elif(faltas > percentual):\n",
        "  print(f\"Percentual de faltas: {percentual}% - Aluno reprovado por Faltas\")\n",
        "elif(media < 7):\n",
        "  print(f\"Nota do aluno: {media} - Aluno Reprovado por Média\")\n",
        "else:\n",
        "  print(\"Aluno Aprovado\")"
      ],
      "metadata": {
        "colab": {
          "base_uri": "https://localhost:8080/"
        },
        "id": "iq7ijt1L1UH-",
        "outputId": "f560f6e5-130e-4ac2-ae2d-2bd83d259153"
      },
      "execution_count": null,
      "outputs": [
        {
          "output_type": "stream",
          "name": "stdout",
          "text": [
            "Digite a nota do Bimestre 1: 2\n",
            "Digite a nota do Bimestre 2: 2\n",
            "Digite a nota do Bimestre 3: 2\n",
            "Digite a nota do Bimestre 4: 2\n",
            "Qual a quantidade total de aulas no Ano: 100\n",
            "Qual a quantidade total de faltas no Ano: 50\n",
            "Aluno Reprovado por Média e Faltas\n"
          ]
        }
      ]
    },
    {
      "cell_type": "markdown",
      "source": [
        "# 6 - Escreva um programa que peça ao usuário para fornecer um dia, mês e o ano arbitrários e determine se esses dados correspondem a uma data válida.\n",
        "\n",
        "- Não deixe de considerar que existem meses com 30 e 31 dias\n",
        "- Fevereiro pode ter 28 ou 29 dias, dependendo se o ano for bissexto.\n",
        "- Considere que um ano é bissexto quando for divisível por 4."
      ],
      "metadata": {
        "id": "1twaBJLe3HIB"
      }
    },
    {
      "cell_type": "code",
      "source": [
        "dia = int(input(\"Digite o dia: \"))\n",
        "mes = int(input(\"Digite o mes (Utilize numeros): \"))\n",
        "ano = int(input(\"Digite o ano: \"))\n",
        "\n",
        "# Verificando se o ano é bissexto\n",
        "bissexto = 1 if ano % 4 == 0 else 0\n",
        "bool(bissexto)\n",
        "\n",
        "if(mes > 12):\n",
        "  print(\"Mes Invalido\")\n",
        "elif(not bissexto and mes == 2 and dia > 28) or (bissexto and mes == 2 and dia > 29):\n",
        "  print(\"Dia Invalido\")\n",
        "elif(mes == 4 or mes == 6 or mes == 9 or mes == 11) and (dia > 30):\n",
        "  print('Dia Invalido')\n",
        "else:\n",
        "  print(f\"Data Valida: {dia}/{mes}/{ano}\")"
      ],
      "metadata": {
        "colab": {
          "base_uri": "https://localhost:8080/"
        },
        "id": "pF_iQvs1yQ4s",
        "outputId": "55128c6c-6f88-495f-8af7-0aca586c7804"
      },
      "execution_count": null,
      "outputs": [
        {
          "output_type": "stream",
          "name": "stdout",
          "text": [
            "Digite o dia: 29\n",
            "Digite o mes (Utilize numeros): 02\n",
            "Digite o ano: 2023\n",
            "Dia Invalido\n"
          ]
        }
      ]
    },
    {
      "cell_type": "markdown",
      "source": [
        "# 7- Construa um programa que leia uma data qualquer (dia, mês e ano) e calcule a data do próximo dia.\n",
        "\n",
        "Lembre-se que em anos bissextos o mês de fevereiro tem 29 dias.\n",
        "\n",
        "Lembre-se que um ano é bissexto quando for divisível por 4."
      ],
      "metadata": {
        "id": "3WfcsLOr4ejS"
      }
    },
    {
      "cell_type": "code",
      "source": [
        "dia = int(input(\"Digite o dia: \"))\n",
        "mes = int(input(\"Digite o mes (Utilize numeros): \"))\n",
        "ano = int(input(\"Digite o ano: \"))\n",
        "\n",
        "# Verificando se o ano é bissexto\n",
        "bissexto = ano % 4 == 0\n",
        "\n",
        "dia_alterado = dia\n",
        "mes_alterado = mes\n",
        "\n",
        "if mes > 12:\n",
        "    print(\"Mês Inválido\")\n",
        "else:\n",
        "  if mes == 2: # fevereiro\n",
        "      if not bissexto and dia > 28:\n",
        "          print(\"Dia Inválido\")\n",
        "      elif bissexto and dia > 29:\n",
        "          print(\"Dia Inválido\")\n",
        "      else: # Alterando para o dia seguinte caso seja o ultimo dia do mes\n",
        "          if dia == 28 and not bissexto:\n",
        "              dia_alterado = 1\n",
        "              mes_alterado = 3\n",
        "          elif dia == 29 and bissexto:\n",
        "              dia_alterado = 1\n",
        "              mes_alterado = 3\n",
        "          else:\n",
        "              dia_alterado += 1\n",
        "          print(f\"Data Válida! Hoje é: {dia}/{mes}/{ano}, amanhã será:{dia_alterado}/{mes_alterado}/{ano}\")\n",
        "  elif mes in [4, 6, 9, 11]:\n",
        "      if dia > 30:\n",
        "          print(\"Dia Inválido\")\n",
        "      else:  # Alterando para o dia seguinte caso seja o ultimo dia do mes\n",
        "          if dia == 30:\n",
        "              dia_alterado = 1\n",
        "              mes_alterado += 1\n",
        "          else:\n",
        "              dia_alterado += 1\n",
        "  else:\n",
        "      if dia > 31:\n",
        "          print(\"Dia Inválido\")\n",
        "      else: # Alterando para o dia e ano seguinte caso seja o ultimo dia do mes e ano\n",
        "          if dia == 31 and mes == 12:\n",
        "              dia_alterado = 1\n",
        "              mes_alterado = 1\n",
        "              ano += 1\n",
        "          elif dia == 31:\n",
        "              dia_alterado = 1\n",
        "              mes_alterado += 1\n",
        "          else:\n",
        "              dia_alterado += 1\n",
        "\n",
        "          print(f\"Data Válida! Hoje é: {dia}/{mes}/{ano}, amanhã será: {dia_alterado}/{mes_alterado}/{ano}\")"
      ],
      "metadata": {
        "colab": {
          "base_uri": "https://localhost:8080/"
        },
        "id": "0nI4JnHK4oR7",
        "outputId": "e62d4bc2-b337-4a48-f954-b82dc7b1785a"
      },
      "execution_count": 2,
      "outputs": [
        {
          "output_type": "stream",
          "name": "stdout",
          "text": [
            "Data Válida! Hoje é: 28/2/2023, amanhã será:1/3/2023\n"
          ]
        }
      ]
    },
    {
      "cell_type": "code",
      "source": [],
      "metadata": {
        "id": "7wZ6zeSNLauL"
      },
      "execution_count": null,
      "outputs": []
    },
    {
      "cell_type": "code",
      "source": [
        "type(bissexto)"
      ],
      "metadata": {
        "colab": {
          "base_uri": "https://localhost:8080/"
        },
        "id": "Sj1IXczALYya",
        "outputId": "42d2008d-c738-4770-fd81-5732e37fbb53"
      },
      "execution_count": null,
      "outputs": [
        {
          "output_type": "execute_result",
          "data": {
            "text/plain": [
              "bool"
            ]
          },
          "metadata": {},
          "execution_count": 26
        }
      ]
    },
    {
      "cell_type": "markdown",
      "source": [
        "# 8 - Faça um programa que leia as duas notas parciais obtidas por um aluno numa disciplina ao longo de um semestre, e calcule a sua média. A atribuição de conceitos obedece à tabela abaixo:\n",
        "Média de Aproveitamento\n",
        "- Entre 9.0 e 10.0 Conceito - A\n",
        "- Entre 7.5 e 8.9 - B\n",
        "- Entre 6.0 e 7.4 - C\n",
        "- Entre 4.0 e 5.9 - D\n",
        "- Entre 0 e 3.9 - E\n",
        "\n",
        "O programa deve mostrar na tela as notas, a média, o conceito correspondente e a mensagem:\n",
        "\n",
        "APROVADO se o conceito for A, B ou C.\n",
        "\n",
        "REPROVADO se o conceito for D ou E."
      ],
      "metadata": {
        "id": "NcMpz43HAWEy"
      }
    },
    {
      "cell_type": "code",
      "source": [
        "nota_1 = float(input(\"Digite a Nota 1: \"))\n",
        "nota_2 = float(input(\"Digite a Nota 2: \"))\n",
        "\n",
        "media = (nota_1 + nota_2) / 2\n",
        "\n",
        "conceito = str\n",
        "\n",
        "if(media >= 0 and media <= 3.9):\n",
        "  conceito = 'E'\n",
        "  print(\"Aluno REPROVADO\")\n",
        "elif(media >= 4 and media <= 5.9):\n",
        "  conceito = 'D'\n",
        "  print(\"Aluno REPROVADO\")\n",
        "elif(media >= 6 and media <= 7.5):\n",
        "  conceito = 'C'\n",
        "  print(\"Aluno APROVADO\")\n",
        "elif(media >= 7.5  and media <= 8.9):\n",
        "  conceito = 'B'\n",
        "  print(\"Aluno APROVADO\")\n",
        "else:\n",
        "  conceito = 'A'\n",
        "  print(\"Aluno APROVADO\")\n",
        "\n",
        "print(f'Nota 1: {nota_1}\\nNota 2: {nota_2}\\nMédia: {media}\\nConceito: {conceito}')"
      ],
      "metadata": {
        "colab": {
          "base_uri": "https://localhost:8080/"
        },
        "id": "z-JoD8vJBT3c",
        "outputId": "f3708e1c-95ec-46b9-99de-14d55d013576"
      },
      "execution_count": null,
      "outputs": [
        {
          "output_type": "stream",
          "name": "stdout",
          "text": [
            "Digite a Nota 1: 3\n",
            "Digite a Nota 2: 3\n",
            "Aluno REPROVADO\n",
            "Nota 1: 3.0\n",
            "Nota 2: 3.0\n",
            "Média: 3.0\n",
            "Conceito: E\n"
          ]
        }
      ]
    },
    {
      "cell_type": "markdown",
      "source": [
        "# 9 - As Organizações XTC resolveram dar um aumento de salário aos seus colaboradores e lhe contrataram para desenvolver o programa que calcula os reajustes.\n",
        "\n",
        "Faça um programa que recebe o salário de um colaborador e o reajuste segundo o seguinte critério, baseado no salário atual:\n",
        "- salários até R$ 280,00 (incluindo): aumento de 20%\n",
        "\n",
        "- salários entre R$ 280,00 e R$ 700,00: aumento de 15%\n",
        "- salários entre R$ 700,00 e R$ 1500,00: aumento de 10%\n",
        "- salários de R$ 1500,00 em diante: aumento de 5%\n",
        "\n",
        "\n",
        "Após o aumento ser realizado informe na tela:\n",
        "- o salário antes do reajuste;\n",
        "- o percentual de aumento aplicado;\n",
        "- o valor do aumento;\n",
        "- o novo salário, após o aumento."
      ],
      "metadata": {
        "id": "MQTyPYhDEaKd"
      }
    },
    {
      "cell_type": "code",
      "source": [
        "salario = float(input(\"Digite o Salario do Colaborador: \"))\n",
        "\n",
        "aumento = 0\n",
        "\n",
        "if(salario <= 280):\n",
        "  aumento = 0.20\n",
        "elif(salario > 280 and salario <= 700):\n",
        "  aumento = 0.15\n",
        "elif(salario > 700 and salario <= 1500):\n",
        "  aumento = 0.1\n",
        "else:\n",
        "  aumento = 0.50\n",
        "valor_aumento = salario * aumento\n",
        "novo_salario = salario + valor_aumento\n",
        "\n",
        "print(f\"- Salario antes do Reajuste: {salario}\\n- Percentual Aplicado: {aumento * 100}%\\n- Valor do Aumento: {valor_aumento:.2f}\\n- Novo Salario: {novo_salario:.2f}\")"
      ],
      "metadata": {
        "colab": {
          "base_uri": "https://localhost:8080/"
        },
        "id": "kEwkbQssFXu8",
        "outputId": "318f9e71-865b-45ef-abdd-b961dc7b73a2"
      },
      "execution_count": null,
      "outputs": [
        {
          "output_type": "stream",
          "name": "stdout",
          "text": [
            "Digite o Salario do Colaborador :500\n",
            "- Salario antes do Reajuste: 500.0\n",
            "- Percentual Aplicado: 15.0%\n",
            "- Valor do Aumento: 75.00\n",
            "- Novo Salario: 575.00\n"
          ]
        }
      ]
    }
  ]
}