{
  "nbformat": 4,
  "nbformat_minor": 0,
  "metadata": {
    "colab": {
      "provenance": [],
      "include_colab_link": true
    },
    "kernelspec": {
      "name": "python3",
      "display_name": "Python 3"
    },
    "language_info": {
      "name": "python"
    }
  },
  "cells": [
    {
      "cell_type": "markdown",
      "metadata": {
        "id": "view-in-github",
        "colab_type": "text"
      },
      "source": [
        "<a href=\"https://colab.research.google.com/github/CamilliCerutti/growdev/blob/main/Atividade_pratica_Semana_03.ipynb\" target=\"_parent\"><img src=\"https://colab.research.google.com/assets/colab-badge.svg\" alt=\"Open In Colab\"/></a>"
      ]
    },
    {
      "cell_type": "markdown",
      "source": [
        "![Growdev](https://www.growdev.com.br/assets/images/logo_growdev.png)"
      ],
      "metadata": {
        "id": "v8pFWwviib2C"
      }
    },
    {
      "cell_type": "markdown",
      "source": [
        "![Formação Engenharia de Dados](https://d335luupugsy2.cloudfront.net/cms/files/524558/1707226566/$occu5m8t1op)"
      ],
      "metadata": {
        "id": "6Tkl4_HxifXZ"
      }
    },
    {
      "cell_type": "markdown",
      "source": [
        "Este material tem como objetivo incentivar a prática dos conteúdos estudados até o momento, e a pesquisa. Tenha em consideração que o exercício foi pensado para incentivar a prática dos conteúdos estudados até então, porém aprender a pesquisar faz parte do processo de aprendizagem.\n",
        "\n",
        "Fique tranquilo, faça os exercícios com calma, e boa prática!\n"
      ],
      "metadata": {
        "id": "ty7Bzyl1i9bN"
      }
    },
    {
      "cell_type": "markdown",
      "source": [
        "#Orientações:\n",
        "\n",
        " - Faça uma copia deste arquivo\n",
        " - Após concluir os exercicios, suba seu exercicio para o GitHub e compartilhe o link no **google** Classroom\n"
      ],
      "metadata": {
        "id": "DU5-yCQwjx3V"
      }
    },
    {
      "cell_type": "markdown",
      "source": [
        "#Exercícios"
      ],
      "metadata": {
        "id": "EzT810tnlmfE"
      }
    },
    {
      "cell_type": "markdown",
      "source": [
        "# 1- Escrever um programa que lê 5 valores para a, um de cada vez, e conta quantos destes valores são negativos, escrevendo esta informação."
      ],
      "metadata": {
        "id": "p62-CTXgvn5E"
      }
    },
    {
      "cell_type": "code",
      "source": [
        "negativo = 0\n",
        "for i in range(5):\n",
        "  a = int(input(\"Digite um numero:  \"))\n",
        "  if a < 0:\n",
        "    negativo +=1\n",
        "\n",
        "print(f\"A quantidade de numeros negativos foi: {negativo}\")"
      ],
      "metadata": {
        "id": "gU8NkXNYvmZv",
        "colab": {
          "base_uri": "https://localhost:8080/"
        },
        "outputId": "77983320-db6d-4f2c-a3bf-601f12828dd8"
      },
      "execution_count": null,
      "outputs": [
        {
          "output_type": "stream",
          "name": "stdout",
          "text": [
            "Digite um numero: -1\n",
            "Digite um numero: -2\n",
            "Digite um numero: -3\n",
            "Digite um numero: -4\n",
            "Digite um numero: -5\n",
            "A quantidade de numeros negativos foi: 5\n"
          ]
        }
      ]
    },
    {
      "cell_type": "markdown",
      "source": [],
      "metadata": {
        "id": "_ST1Z4wkjMzJ"
      }
    },
    {
      "cell_type": "markdown",
      "source": [
        "# 2 - A prefeitura de uma cidade fez uma pesquisa entre seus habitantes, coletando dados sobre o salário e número de filhos. A prefeitura deseja saber:\n",
        "\n",
        "a) média do salário da população;\n",
        "\n",
        "b) média do número de filhos;\n",
        "\n",
        "c) maior salário;\n",
        "\n",
        "d) percentual de pessoas com salário até R$2000,00.\n",
        "\n",
        "Escreva um programa que receba as informações necessárias de 5 pessoas conforme a descrição e responda às questões a, b, c e d anteriores.\n"
      ],
      "metadata": {
        "id": "59g_B9yRvqYS"
      }
    },
    {
      "cell_type": "code",
      "source": [
        "total_salarios = 0\n",
        "total_filhos = 0\n",
        "maior_salario = 0\n",
        "pessoas_com_salario_ate_2000 = 0\n",
        "\n",
        "for i in range(5):\n",
        "    salario = float(input(f\"Informe o salário da pessoa {i+1}: R$\"))\n",
        "    num_filho = int(input(f\"Informe o número de filhos da pessoa {i+1}: \"))\n",
        "\n",
        "    total_salarios += salario\n",
        "    total_filhos += num_filho\n",
        "\n",
        "    if salario > maior_salario:\n",
        "        maior_salario = salario\n",
        "\n",
        "    if salario <= 2000:\n",
        "        pessoas_com_salario_ate_2000 += 1\n",
        "\n",
        "media_salario = total_salarios / 5\n",
        "\n",
        "media_filhos = total_filhos / 5\n",
        "\n",
        "percentual_salario_ate_2000 = (pessoas_com_salario_ate_2000 / 5) * 100\n",
        "\n",
        "print(f\"Média do salário da população: R${media_salario}\")\n",
        "print(f\"Média do número de filhos: {media_filhos}\")\n",
        "print(f\"Maior salário: R${maior_salario}\")\n",
        "print(f\"Percentual de pessoas com salário até R$2000,00: {percentual_salario_ate_2000}%\")\n",
        "\n"
      ],
      "metadata": {
        "id": "hz6OkEJBv52O",
        "colab": {
          "base_uri": "https://localhost:8080/"
        },
        "outputId": "c7db6c0f-f9e8-411f-f202-895ff05f80c1"
      },
      "execution_count": null,
      "outputs": [
        {
          "output_type": "stream",
          "name": "stdout",
          "text": [
            "Informe o salário da pessoa 1: R$1500\n",
            "Informe o número de filhos da pessoa 1: 2\n",
            "Informe o salário da pessoa 2: R$2000\n",
            "Informe o número de filhos da pessoa 2: 3\n",
            "Informe o salário da pessoa 3: R$3000\n",
            "Informe o número de filhos da pessoa 3: 0\n",
            "Informe o salário da pessoa 4: R$1750\n",
            "Informe o número de filhos da pessoa 4: 1\n",
            "Informe o salário da pessoa 5: R$5500\n",
            "Informe o número de filhos da pessoa 5: 6\n",
            "Média do salário da população: R$2750.0\n",
            "Média do número de filhos: 2.4\n",
            "Maior salário: R$5500.0\n",
            "Percentual de pessoas com salário até R$2000,00: 60.0%\n"
          ]
        }
      ]
    },
    {
      "cell_type": "markdown",
      "source": [
        "# 3 - Chico tem 1,50 metro e cresce 2 centímetros por ano, enquanto Zé tem 1,10 metro e cresce 3 centímetros por ano. Construa um programa que calcule e imprima quantos anos serão necessários para que Zé seja maior que Chico."
      ],
      "metadata": {
        "id": "V-7kNtvtwDN1"
      }
    },
    {
      "cell_type": "code",
      "source": [
        "chico = 1.5 # 0.02 a.a\n",
        "ze = 1.1 # 0.03 a.a\n",
        "ano = 0\n",
        "\n",
        "while ze < chico:\n",
        "  chico += 0.02\n",
        "  ze += 0.03\n",
        "  ano += 1\n",
        "\n",
        "print(f\"Levara {ano} anos até que Zé seja maior que Chico\")"
      ],
      "metadata": {
        "id": "Xlx4kqLpwE4L",
        "colab": {
          "base_uri": "https://localhost:8080/"
        },
        "outputId": "a47f4f5a-be5c-4750-8782-b25d019c6363"
      },
      "execution_count": null,
      "outputs": [
        {
          "output_type": "stream",
          "name": "stdout",
          "text": [
            "Levara 41 anos até que Zé seja maior que Chico\n"
          ]
        }
      ]
    },
    {
      "cell_type": "markdown",
      "source": [
        "# 4 - Em uma eleição presidencial existem dois candidatos. Os votos são informados através de códigos. Os dados utilizados para a contagem dos votos obedecem à seguinte codificação:  \n",
        "\n",
        "1,2 = voto para os respectivos candidatos\n",
        "\n",
        "3 = voto nulo\n",
        "\n",
        "4 = voto em branco;\n",
        "\n",
        "Elabore um programa que leia o código de votação de 5 candidatos. Calcule e escreva:\n",
        "total de votos para cada candidato\n",
        "total de votos nulos\n",
        "total de votos em branco\n"
      ],
      "metadata": {
        "id": "BU7x-lumwGRO"
      }
    },
    {
      "cell_type": "code",
      "source": [
        "candidato_1 = candidato_2 = nulo = branco = 0\n",
        "\n",
        "for i in range(5):\n",
        "  voto = int(input(f\"Digite o voto {i+1}: \"))\n",
        "\n",
        "  if(voto < 1 or voto > 4):\n",
        "    print(f\"O Código de votação esta incorreto. Escolha um numero entre 1 e 4!\")\n",
        "    voto = int(input(f\"Digite o voto {i+1}: \"))\n",
        "  else:\n",
        "    if voto == 1:\n",
        "      candidato_1 += 1\n",
        "    elif voto == 2:\n",
        "      candidato_2 += 1\n",
        "    elif voto == 3:\n",
        "      nulo += 1\n",
        "    else:\n",
        "      branco += 1\n",
        "\n",
        "print(f\"A votação gerou:\\n{candidato_1} votos Para o candidato 1\\n{candidato_2} votos para o candidato 2\\n{nulo} votos nulos\\n{branco} votos em branco\")\n"
      ],
      "metadata": {
        "id": "tnOkAb44wQo5",
        "colab": {
          "base_uri": "https://localhost:8080/"
        },
        "outputId": "d7937019-9ce6-46c9-be32-03712cf33e50"
      },
      "execution_count": null,
      "outputs": [
        {
          "output_type": "stream",
          "name": "stdout",
          "text": [
            "Digite o voto 1: 1\n",
            "Digite o voto 2: 2\n",
            "Digite o voto 3: 3\n",
            "Digite o voto 4: 4\n",
            "Digite o voto 5: 1\n",
            "A votação gerou:\n",
            "2 votos Para o candidato 1\n",
            "1 votos para o candidato 2\n",
            "1 votos nulos\n",
            "1 votos em branco\n"
          ]
        }
      ]
    },
    {
      "cell_type": "markdown",
      "source": [
        "# 5 - Escreva um programa que receba o nome de 10 pessoas e para cada pessoa, o lugar para o qual ela já viajou. Sendo que existem 3 possibilidades:\n",
        "\n",
        "Rio de Janeiro\n",
        "\n",
        "Bahia\n",
        "\n",
        "Minas Gerais\n",
        "\n",
        "Após, informar qual foi o destino mais visitado e qual o menos visitado.\n"
      ],
      "metadata": {
        "id": "oNyazyHPwzlo"
      }
    },
    {
      "cell_type": "code",
      "source": [
        "print(\"Destinos:\\n1 - Rio De Janeiro\\n2 - Bahia\\n3 - Minas Gerais\")\n",
        "rj = bh = mg = 0\n",
        "\n",
        "for i in range(10):\n",
        "    nome = input(\"Digite seu nome: \")\n",
        "    local = int(input(\"Digite o código do local visitado (1, 2 ou 3): \"))\n",
        "\n",
        "    while local not in [1, 2, 3]:\n",
        "        local = int(input(\"Digite um código válido do local visitado (1, 2 ou 3): \"))\n",
        "\n",
        "    if local == 1:\n",
        "        rj += 1\n",
        "    elif local == 2:\n",
        "        bh += 1\n",
        "    elif local == 3:\n",
        "        mg += 1\n",
        "\n",
        "mais_visitado = \"\"\n",
        "if rj > bh and rj > mg:\n",
        "    mais_visitado = \"Rio de Janeiro\"\n",
        "elif bh > rj and bh > mg:\n",
        "    mais_visitado = \"Bahia\"\n",
        "elif mg > rj and mg > bh:\n",
        "    mais_visitado = \"Minas Gerais\"\n",
        "else:\n",
        "    mais_visitado = \"empate\"\n",
        "\n",
        "menos_visitado = \"\"\n",
        "if rj < bh and rj < mg:\n",
        "    menos_visitado = \"Rio de Janeiro\"\n",
        "elif bh < rj and bh < mg:\n",
        "    menos_visitado = \"Bahia\"\n",
        "elif mg < rj and mg < bh:\n",
        "    menos_visitado = \"Minas Gerais\"\n",
        "else:\n",
        "    menos_visitado = \"empate\"\n",
        "\n",
        "print(f\"O destino mais visitado foi: {mais_visitado}\")\n",
        "print(f\"O destino menos visitado foi: {menos_visitado}\")"
      ],
      "metadata": {
        "id": "FzTr2EY1w2Ey",
        "colab": {
          "base_uri": "https://localhost:8080/"
        },
        "outputId": "ba66b94f-fe82-4950-c022-ac9f2122af0c"
      },
      "execution_count": null,
      "outputs": [
        {
          "output_type": "stream",
          "name": "stdout",
          "text": [
            "Destinos:\n",
            "1 - Rio De Janeiro\n",
            "2 - Bahia\n",
            "3 - Minas Gerais\n",
            "Digite seu nome: camilli\n",
            "Digite o código do local visitado (1, 2 ou 3): 2\n",
            "Digite seu nome: camila\n",
            "Digite o código do local visitado (1, 2 ou 3): 1\n",
            "Digite seu nome: julia\n",
            "Digite o código do local visitado (1, 2 ou 3): 0\n",
            "Digite um código válido do local visitado (1, 2 ou 3): 3\n",
            "Digite seu nome: roberta\n",
            "Digite o código do local visitado (1, 2 ou 3): 15\n",
            "Digite um código válido do local visitado (1, 2 ou 3): 2\n",
            "Digite seu nome: juliana\n",
            "Digite o código do local visitado (1, 2 ou 3): 2\n",
            "Digite seu nome: pedro\n",
            "Digite o código do local visitado (1, 2 ou 3): 1\n",
            "Digite seu nome: rafael\n",
            "Digite o código do local visitado (1, 2 ou 3): 1\n",
            "Digite seu nome: marcia\n",
            "Digite o código do local visitado (1, 2 ou 3): 3\n",
            "Digite seu nome: sandro\n",
            "Digite o código do local visitado (1, 2 ou 3): 3\n",
            "Digite seu nome: pyettro\n",
            "Digite o código do local visitado (1, 2 ou 3): 2\n",
            "O destino mais visitado foi: Bahia\n",
            "O destino menos visitado foi: empate\n"
          ]
        }
      ]
    },
    {
      "cell_type": "markdown",
      "source": [
        "# 6 -  A série de Fibonacci é formada pela sequência 1,1,2,3,5,8,13,21,34,55,... Faça um programa capaz de gerar a série até o n−ésimo termo."
      ],
      "metadata": {
        "id": "HVJPsqTcw95-"
      }
    },
    {
      "cell_type": "code",
      "source": [
        "n = int(input(\"Digite o valor de n: \"))\n",
        "\n",
        "termo_anterior = 1\n",
        "termo_atual = 1\n",
        "\n",
        "print(termo_anterior)\n",
        "print(termo_atual)\n",
        "\n",
        "for i in range(2, n):\n",
        "    proximo_termo = termo_anterior + termo_atual\n",
        "    print(proximo_termo)\n",
        "\n",
        "    termo_anterior = termo_atual\n",
        "    termo_atual = proximo_termo\n"
      ],
      "metadata": {
        "id": "ZwgmpSgGw-v3",
        "colab": {
          "base_uri": "https://localhost:8080/"
        },
        "outputId": "0d900b71-1304-4c9f-9f33-99d2066ee615"
      },
      "execution_count": 5,
      "outputs": [
        {
          "output_type": "stream",
          "name": "stdout",
          "text": [
            "Digite o valor de n: 20\n",
            "1\n",
            "1\n",
            "2\n",
            "3\n",
            "5\n",
            "8\n",
            "13\n",
            "21\n",
            "34\n",
            "55\n",
            "89\n",
            "144\n",
            "233\n",
            "377\n",
            "610\n",
            "987\n",
            "1597\n",
            "2584\n",
            "4181\n",
            "6765\n"
          ]
        }
      ]
    },
    {
      "cell_type": "markdown",
      "source": [
        "# 7 - Escreva um programa que conte em ordem reversa, de 25 a zero."
      ],
      "metadata": {
        "id": "DaF7vXEWxB6R"
      }
    },
    {
      "cell_type": "code",
      "source": [
        "for i in range(25, -1, -1):\n",
        "  print(i)"
      ],
      "metadata": {
        "id": "2AYe_lX2xCdj",
        "colab": {
          "base_uri": "https://localhost:8080/"
        },
        "outputId": "a8704c52-8e32-41c1-9320-425975570a89"
      },
      "execution_count": null,
      "outputs": [
        {
          "output_type": "stream",
          "name": "stdout",
          "text": [
            "25\n",
            "24\n",
            "23\n",
            "22\n",
            "21\n",
            "20\n",
            "19\n",
            "18\n",
            "17\n",
            "16\n",
            "15\n",
            "14\n",
            "13\n",
            "12\n",
            "11\n",
            "10\n",
            "9\n",
            "8\n",
            "7\n",
            "6\n",
            "5\n",
            "4\n",
            "3\n",
            "2\n",
            "1\n",
            "0\n"
          ]
        }
      ]
    },
    {
      "cell_type": "markdown",
      "source": [
        "# 8 - Crie um programa para que retorne o somatório de todos os números entre 1 e um valor fornecido pelo usuário. Por exemplo, se o usuário fornecer o número 4, o computador deverá calcular o somatório 1+ 2 + 3 + 4 = 10.\n"
      ],
      "metadata": {
        "id": "Oc2yjIGqxF3h"
      }
    },
    {
      "cell_type": "code",
      "source": [
        "num = int(input(\"Digite o numero final do somatorio: \"))\n",
        "somatorio = 0\n",
        "for i in range(num):\n",
        "  somatorio += (i+1)\n",
        "\n",
        "print(somatorio)\n"
      ],
      "metadata": {
        "id": "m5gfIfomxGwe",
        "colab": {
          "base_uri": "https://localhost:8080/"
        },
        "outputId": "6b770c6f-d95b-48aa-c934-42022571dacf"
      },
      "execution_count": null,
      "outputs": [
        {
          "output_type": "stream",
          "name": "stdout",
          "text": [
            "Digite o numero final do somatorio: 4\n",
            "10\n"
          ]
        }
      ]
    },
    {
      "cell_type": "markdown",
      "source": [
        "# 9 - Escreva um programa que leia a idade e salário de 10 pessoas. Informe em seguida:\n",
        "Qual é a média de idade entre as pessoas?\n",
        "\n",
        "Quantas pessoas há por faixa etária, considerando:\n",
        "\n",
        "jovens < 18\n",
        "\n",
        "18 <= adultos < 60\n",
        "\n",
        "idosos >= 60\n",
        "\n",
        "Em seguida, mostre qual é a faixa etária que acumula o maior salário.\n"
      ],
      "metadata": {
        "id": "5D368hETyJQh"
      }
    },
    {
      "cell_type": "code",
      "source": [
        "jovem = adulto = idoso = media = 0\n",
        "salario_jovem = salario_adulto = salario_idoso = 0\n",
        "\n",
        "for i in range(10):\n",
        "  idade = int(input(\"Digite sua idade: \"))\n",
        "  salario = float(input(\"Digite seu salario: \"))\n",
        "\n",
        "  if(idade < 18):\n",
        "    jovem += 1\n",
        "    salario_jovem += salario\n",
        "\n",
        "  elif(idade >= 18 and idade < 60):\n",
        "    adulto += 1\n",
        "    salario_adulto += salario\n",
        "  else:\n",
        "    idoso += 1\n",
        "    salario_idoso += salario\n",
        "\n",
        "  media += idade\n",
        "\n",
        "if salario_jovem > salario_adulto and salario_jovem > salario_idoso:\n",
        "  print(\"O maior salario esta concentrato na faixa etaria dos jovens\")\n",
        "\n",
        "elif salario_adulto > salario_jovem and salario_adulto > salario_idoso:\n",
        "  print(\"O maior salario esta concentrado na faixa etaria dos adultos\")\n",
        "else:\n",
        "  print(\"O maior salario esta concentrado na faixa etaria dos idosos\")\n",
        "\n",
        "print(f\"A media de idade entre as pessoas é de {media / 10}\")\n",
        "print(f\"Pessoas por faixa etaria:\\n{jovem} jovens\\n{adulto} adultos\\n{idoso} idosos\")"
      ],
      "metadata": {
        "id": "zZsS7JHm0UY6",
        "colab": {
          "base_uri": "https://localhost:8080/"
        },
        "outputId": "f6b16c95-fef0-4993-a454-def6bec39e6a"
      },
      "execution_count": null,
      "outputs": [
        {
          "output_type": "stream",
          "name": "stdout",
          "text": [
            "Digite sua idade: 18\n",
            "Digite seu salario: 1500\n",
            "Digite sua idade: 21\n",
            "Digite seu salario: 2000\n",
            "Digite sua idade: 19\n",
            "Digite seu salario: 1000\n",
            "Digite sua idade: 68\n",
            "Digite seu salario: 10000\n",
            "Digite sua idade: 11\n",
            "Digite seu salario: 3\n",
            "O maior salario esta concentrado na faixa etaria dos idosos\n",
            "A media de idade entre as pessoas é de 27.4\n",
            "Pessoas por faixa etaria:\n",
            "1 jovens\n",
            "3 adultos\n",
            "1 idosos\n"
          ]
        }
      ]
    },
    {
      "cell_type": "markdown",
      "source": [
        "# 10 - Crie uma calculadora simples que realiza operações de adição, subtração, multiplicação, divisão e exponenciação. O programa deve continuar pedindo operações até que o usuário escolha sair.Exemplo de saída:"
      ],
      "metadata": {
        "id": "L4xlYJzdhZyV"
      }
    },
    {
      "cell_type": "code",
      "source": [
        "while True:\n",
        "  print(\"---Menu---\\n1 - soma\\n2 - Subtração\\n3 - Multiplicação\\n4 - Sair da Calculadora\")\n",
        "  num_1 = int(input(\"Digite o Primeiro Numero: \"))\n",
        "  num_2 = int(input(\"Digite o Segundo Numero: \"))\n",
        "  escolha = int(input(\"Digite o codigo da Operação que voce gostaria de realizar: \"))\n",
        "\n",
        "\n",
        "  while escolha not in [1,2,3,4]:\n",
        "    escolha =  int(input(\"Escolha um valor valido: \"))\n",
        "\n",
        "  if(escolha == 1):\n",
        "    print(f\"A soma dos Numeros é {num_1 + num_2}\")\n",
        "  elif(escolha == 2):\n",
        "    print(f\"A Subtração dos Numeros é {num_1 - num_2}\")\n",
        "  elif(escolha == 3):\n",
        "    print(f\"A Multiplicação dos Numeros é {num_1 * num_2}\")\n",
        "  else:\n",
        "    print(\"Obrigada por usar nossa calculadora!\")\n",
        "    break\n",
        "\n"
      ],
      "metadata": {
        "id": "t1GTUaOshazK",
        "colab": {
          "base_uri": "https://localhost:8080/"
        },
        "outputId": "6c8f9c02-782a-42f7-98c8-76ae2f40d3cf"
      },
      "execution_count": null,
      "outputs": [
        {
          "output_type": "stream",
          "name": "stdout",
          "text": [
            "---Menu---\n",
            "1 - soma\n",
            "2 - Subtração\n",
            "3 - Multiplicação\n",
            "4 - Sair da Calculadora\n",
            "Digite o Primeiro Numero: 2\n",
            "Digite o Segundo Numero: 2\n",
            "Digite o codigo da Operação que voce gostaria de realizar: 0\n",
            "Escolha um valor valido: 5\n",
            "Escolha um valor valido: 1\n",
            "A soma dos Numeros é 4\n",
            "---Menu---\n",
            "1 - soma\n",
            "2 - Subtração\n",
            "3 - Multiplicação\n",
            "4 - Sair da Calculadora\n",
            "Digite o Primeiro Numero: 5\n",
            "Digite o Segundo Numero: 5\n",
            "Digite o codigo da Operação que voce gostaria de realizar: 4\n",
            "Obrigada por usar nossa calculadora!\n"
          ]
        }
      ]
    },
    {
      "cell_type": "markdown",
      "source": [
        "# 11 - Crie um jogo em que o computador escolha um número aleatório entre 1 e 100, e o jogador tenta adivinhá-lo. O programa deve dar dicas se o número é maior ou menor do que o número digitado pelo jogador. O jogo continua até que o jogador acerte o número."
      ],
      "metadata": {
        "id": "TvOVLvpYhohk"
      }
    },
    {
      "cell_type": "markdown",
      "source": [
        "Exemplo de saída:\n",
        "\n",
        "Bem-vindo ao jogo de adivinhação!\n",
        "\n",
        "Tente adivinhar o número entre 1 e 100.\n",
        "\n",
        "Digite sua tentativa: 50\n",
        "\n",
        "O número é menor.\n",
        "\n",
        "Digite sua tentativa: 75\n",
        "\n",
        "O número é maior.\n",
        "\n",
        "Digite sua tentativa: 63\n",
        "\n",
        "O número é menor.\n",
        "\n",
        "Digite sua tentativa: 68\n",
        "\n",
        "Parabéns! Você acertou o número 68 em 4 tentativas!"
      ],
      "metadata": {
        "id": "GMjNhBcxo3ks"
      }
    },
    {
      "cell_type": "code",
      "source": [
        "import random"
      ],
      "metadata": {
        "id": "29kMKFpW7HPK"
      },
      "execution_count": null,
      "outputs": []
    },
    {
      "cell_type": "code",
      "source": [
        "numero_aleatorio = random.randint(1, 100)\n",
        "print(numero_aleatorio)\n",
        "tentativa = 1\n",
        "while True:\n",
        "  chute = int(input(\"Digite sua tentativa: \"))\n",
        "\n",
        "  if chute > numero_aleatorio:\n",
        "    print(\"Seu chute foi maior que o numero!\")\n",
        "  elif chute < numero_aleatorio:\n",
        "    print(\"Seu chute foi Menor que o numero!\")\n",
        "  else:\n",
        "    print(f\"Voce acertou o numero {numero_aleatorio} em {tentativa} tentativas\")\n",
        "    break\n",
        "  tentativa += 1\n"
      ],
      "metadata": {
        "id": "wD7WVTzdh3Tf",
        "colab": {
          "base_uri": "https://localhost:8080/"
        },
        "outputId": "de19a9ea-6630-4487-800f-84fccf429a3f"
      },
      "execution_count": null,
      "outputs": [
        {
          "output_type": "stream",
          "name": "stdout",
          "text": [
            "62\n",
            "Digite sua tentativa: 22\n",
            "Seu chute foi Menor que o numero!\n",
            "Digite sua tentativa: 23\n",
            "Seu chute foi Menor que o numero!\n",
            "Digite sua tentativa: 69\n",
            "Seu chute foi maior que o numero!\n",
            "Digite sua tentativa: 62\n",
            "Voce acertou o numero 62 em 4 tentativas\n"
          ]
        }
      ]
    },
    {
      "cell_type": "markdown",
      "source": [
        "# 12 - Escreva um programa que calcula o valor de um investimento após um número específico de anos, considerando juros compostos. O usuário deve fornecer o principal (valor inicial do investimento), a taxa de juros anual (em porcentagem) e o número de anos.\n",
        "\n",
        "A fórmula para calcular o valor de um investimento após n anos com juros compostos é:\n",
        "\n",
        "A=P×(1+r)^n\n",
        "\n",
        "\n",
        "Onde:\n",
        "\n",
        "\n",
        "A é o valor do investimento após n anos,\n",
        "\n",
        "P é o principal (valor inicial do investimento),\n",
        "\n",
        "r é a taxa de juros anual (em decimal), e\n",
        "\n",
        "n é o número de anos."
      ],
      "metadata": {
        "id": "528JJZodmafY"
      }
    },
    {
      "cell_type": "markdown",
      "source": [
        "\n",
        "Exemplo de saída:\n",
        "\n",
        "Digite o principal (R$): 1000\n",
        "\n",
        "Digite a taxa de juros anual (%): 5\n",
        "\n",
        "Digite o número de anos: 10\n",
        "\n",
        "O valor do investimento após 10 anos é: R$ 1628.89"
      ],
      "metadata": {
        "id": "-6opTpcXoxNw"
      }
    },
    {
      "cell_type": "code",
      "source": [
        "principal = float(input(\"Digite o principal (R$): \"))\n",
        "taxa_juros_anual = float(input(\"Digite a taxa de juros anual (%): \"))\n",
        "anos = int(input(\"Digite o número de anos: \"))\n",
        "\n",
        "taxa_juros_decimal = taxa_juros_anual / 100\n",
        "\n",
        "valor_investimento = principal * (1 + taxa_juros_decimal) ** anos\n",
        "\n",
        "print(f\"O valor do investimento após {anos} anos é: R$ {valor_investimento:.2f}\")"
      ],
      "metadata": {
        "id": "3XHAThk1oFIT",
        "colab": {
          "base_uri": "https://localhost:8080/"
        },
        "outputId": "dd4c6e3f-7be7-4b45-fa6c-7f3e4132ac22"
      },
      "execution_count": 4,
      "outputs": [
        {
          "output_type": "stream",
          "name": "stdout",
          "text": [
            "Digite o principal (R$): 1000\n",
            "Digite a taxa de juros anual (%): 5\n",
            "Digite o número de anos: 10\n",
            "O valor do investimento após 10 anos é: R$ 1628.89\n"
          ]
        }
      ]
    }
  ]
}