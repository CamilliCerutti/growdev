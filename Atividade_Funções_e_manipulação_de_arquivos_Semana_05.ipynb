{
  "nbformat": 4,
  "nbformat_minor": 0,
  "metadata": {
    "colab": {
      "provenance": [],
      "collapsed_sections": [
        "rDqBAimhSq_C"
      ],
      "include_colab_link": true
    },
    "kernelspec": {
      "name": "python3",
      "display_name": "Python 3"
    },
    "language_info": {
      "name": "python"
    }
  },
  "cells": [
    {
      "cell_type": "markdown",
      "metadata": {
        "id": "view-in-github",
        "colab_type": "text"
      },
      "source": [
        "<a href=\"https://colab.research.google.com/github/CamilliCerutti/growdev/blob/main/Atividade_Fun%C3%A7%C3%B5es_e_manipula%C3%A7%C3%A3o_de_arquivos_Semana_05.ipynb\" target=\"_parent\"><img src=\"https://colab.research.google.com/assets/colab-badge.svg\" alt=\"Open In Colab\"/></a>"
      ]
    },
    {
      "cell_type": "markdown",
      "source": [
        "![Growdev](https://www.growdev.com.br/assets/images/logo_growdev.png)"
      ],
      "metadata": {
        "id": "v8pFWwviib2C"
      }
    },
    {
      "cell_type": "markdown",
      "source": [
        "![Formação Engenharia de Dados](https://d335luupugsy2.cloudfront.net/cms/files/524558/1707226566/$occu5m8t1op)"
      ],
      "metadata": {
        "id": "6Tkl4_HxifXZ"
      }
    },
    {
      "cell_type": "markdown",
      "source": [
        "Este material tem como objetivo incentivar a prática dos conteúdos estudados até o momento, e a pesquisa. Tenha em consideração que o exercício foi pensado para incentivar a prática dos conteúdos estudados até então, porém aprender a pesquisar faz parte do processo de aprendizagem.\n",
        "\n",
        "Fique tranquilo, faça os exercícios com calma, e boa prática!\n"
      ],
      "metadata": {
        "id": "ty7Bzyl1i9bN"
      }
    },
    {
      "cell_type": "markdown",
      "source": [
        "#Exercícios"
      ],
      "metadata": {
        "id": "EzT810tnlmfE"
      }
    },
    {
      "cell_type": "markdown",
      "source": [
        "#Funções"
      ],
      "metadata": {
        "id": "rDqBAimhSq_C"
      }
    },
    {
      "cell_type": "markdown",
      "source": [
        "Escreva uma função chamada soma que recebe dois números como parâmetros e retorna a soma deles"
      ],
      "metadata": {
        "id": "AkBqdNST8bCY"
      }
    },
    {
      "cell_type": "code",
      "source": [
        "def soma(num1, num2):\n",
        "  soma = num1 + num2\n",
        "  return soma\n",
        "\n",
        "print(soma(5,3))"
      ],
      "metadata": {
        "id": "J427Pi2p8THC",
        "colab": {
          "base_uri": "https://localhost:8080/"
        },
        "outputId": "212f9cd8-3355-4337-9342-b4536d02c598"
      },
      "execution_count": null,
      "outputs": [
        {
          "output_type": "stream",
          "name": "stdout",
          "text": [
            "8\n"
          ]
        }
      ]
    },
    {
      "cell_type": "markdown",
      "source": [
        "Escreva uma função chamada verificar_paridade que recebe um número como parâmetro e retorna True se for par e False se for ímpar."
      ],
      "metadata": {
        "id": "NAa3MBAM830W"
      }
    },
    {
      "cell_type": "code",
      "source": [
        "def verificar_paridade(num):\n",
        "  if num % 2 == 0:\n",
        "    return True\n",
        "  else:\n",
        "    return False\n",
        "\n",
        "print(verificar_paridade(3))\n",
        "print(verificar_paridade(2))"
      ],
      "metadata": {
        "id": "CRlV5NE82kpE",
        "colab": {
          "base_uri": "https://localhost:8080/"
        },
        "outputId": "3dabc929-3a73-490d-e282-0fd94e416292"
      },
      "execution_count": null,
      "outputs": [
        {
          "output_type": "stream",
          "name": "stdout",
          "text": [
            "False\n",
            "True\n"
          ]
        }
      ]
    },
    {
      "cell_type": "markdown",
      "source": [
        "Escreva uma função chamada verificar_palindromo que recebe uma string como parâmetro e retorna True se for um palíndromo (uma palavra que é igual se lida da esquerda para a direita e vice-versa) e False caso contrário."
      ],
      "metadata": {
        "id": "S7Rh1p4N8_dp"
      }
    },
    {
      "cell_type": "code",
      "source": [
        "def verificar_palindromo(frase):\n",
        "  if frase == frase[::-1]:\n",
        "    return True\n",
        "  else:\n",
        "    return False\n",
        "\n",
        "print(verificar_palindromo(\"ama\"))\n",
        "print(verificar_palindromo(\"abacaxi\"))"
      ],
      "metadata": {
        "id": "jY3rGEWc9Gb5",
        "colab": {
          "base_uri": "https://localhost:8080/"
        },
        "outputId": "7b38b4c7-5f4f-4d77-977c-f54d00fc435c"
      },
      "execution_count": null,
      "outputs": [
        {
          "output_type": "stream",
          "name": "stdout",
          "text": [
            "True\n",
            "False\n"
          ]
        }
      ]
    },
    {
      "cell_type": "markdown",
      "source": [
        "#Manipulação de arquivos: Conteudo será trabalhado na aula do"
      ],
      "metadata": {
        "id": "ffEKF4Kx5eQu"
      }
    },
    {
      "cell_type": "markdown",
      "source": [
        "UUtilize o arquivo ‘compras.csv’ como base para resolver os seguintes exercícios.  disponivel em: https://drive.google.com/file/d/1cqqr7kWuBYYJxJ8W_-KHmcZHs6sfV_is/view"
      ],
      "metadata": {
        "id": "IrQvRhQM5oj6"
      }
    },
    {
      "cell_type": "markdown",
      "source": [
        "Utilize as seguintes faixas etárias nos exercícios em que for necessário.\n",
        "- Jovens, 18 a 25 anos\n",
        "- Adultos, 26 a 59 anos\n",
        "- Idosos, igual ou maior que 60 anos\n"
      ],
      "metadata": {
        "id": "J8g6sYrl3Xjg"
      }
    },
    {
      "cell_type": "code",
      "source": [
        "import csv\n"
      ],
      "metadata": {
        "id": "mzquGbzPJ7DT"
      },
      "execution_count": 3,
      "outputs": []
    },
    {
      "cell_type": "code",
      "source": [
        "def ler_csv(caminho_arquivo):\n",
        "  dados = {}\n",
        "  with open(caminho_arquivo, newline ='', encoding ='utf-8') as csvfile:\n",
        "    leitor = csv.reader(csvfile)\n",
        "    cabecalho = next(leitor)\n",
        "\n",
        "    for i, linha in enumerate(leitor):\n",
        "      individuo = {cabecalho[j]: linha[j] for j in range(len(cabecalho))}\n",
        "      dados[i] = individuo\n",
        "\n",
        "  return dados\n",
        "\n",
        "dicionario = ler_csv('compras.csv')"
      ],
      "metadata": {
        "id": "UFHihKXiyxgj"
      },
      "execution_count": 5,
      "outputs": []
    },
    {
      "cell_type": "markdown",
      "source": [
        "Procure quem foi a pessoa que mais gastou?"
      ],
      "metadata": {
        "id": "apGpARF-3nW9"
      }
    },
    {
      "cell_type": "code",
      "source": [
        "def gastou_mais():\n",
        "  maior_gastador = ''\n",
        "  maior_valor = 0\n",
        "  for item in dicionario.items():\n",
        "    if int(item[1]['compra']) > int(maior_valor):\n",
        "      maior_valor = item[1]['compra']\n",
        "      maior_gastador = item[1]['nome'] + ' ' + item[1]['sobrenome']\n",
        "  return maior_gastador, maior_valor\n",
        "\n",
        "print(gastou_mais())"
      ],
      "metadata": {
        "id": "EPX_3cU33XOh",
        "colab": {
          "base_uri": "https://localhost:8080/"
        },
        "outputId": "01c78d39-cc37-4218-bfde-10f18e6c8bb8"
      },
      "execution_count": null,
      "outputs": [
        {
          "output_type": "stream",
          "name": "stdout",
          "text": [
            "('Gabriel Pereira', '9998')\n"
          ]
        }
      ]
    },
    {
      "cell_type": "markdown",
      "source": [
        "Busque quais são os anos da base de dados?"
      ],
      "metadata": {
        "id": "3PBqAffp3o9I"
      }
    },
    {
      "cell_type": "code",
      "source": [
        "def anos():\n",
        "  lista = []\n",
        "  for item in dicionario.items():\n",
        "    if item[1]['ano'] not in lista:\n",
        "      lista.append(item[1]['ano'])\n",
        "  return lista\n",
        "print(anos())"
      ],
      "metadata": {
        "id": "lqgX2B6x5fLc",
        "colab": {
          "base_uri": "https://localhost:8080/"
        },
        "outputId": "975c5a1e-3144-4a31-88d2-cd3262a6e08b"
      },
      "execution_count": null,
      "outputs": [
        {
          "output_type": "stream",
          "name": "stdout",
          "text": [
            "['2006', '2005', '2010', '2007', '2018', '2019', '2008', '2009', '2015', '2011', '2012', '2017', '2016', '2014', '2020', '2013']\n"
          ]
        }
      ]
    },
    {
      "cell_type": "markdown",
      "source": [
        "Qual a porcentagem de homens e mulheres na base de dados?"
      ],
      "metadata": {
        "id": "R2DKj08Z5tqJ"
      }
    },
    {
      "cell_type": "code",
      "source": [
        "def porcentagem():\n",
        "  m = 0\n",
        "  f = 0\n",
        "  for item in dicionario.items():\n",
        "    if item[1]['sexo'] == 'M':\n",
        "      m += 1\n",
        "    else:\n",
        "      f += 1\n",
        "\n",
        "    total_registros = m + f\n",
        "\n",
        "  if total_registros == 0:\n",
        "      porcentagem_homens = 0\n",
        "      porcentagem_mulheres = 0\n",
        "  else:\n",
        "      porcentagem_homens = (m / total_registros) * 100\n",
        "      porcentagem_mulheres = (f / total_registros) * 100\n",
        "\n",
        "  return porcentagem_homens, porcentagem_mulheres\n",
        "\n",
        "# Exemplo de uso\n",
        "caminho_csv = 'compras.csv'\n",
        "porcentagem_homens, porcentagem_mulheres = porcentagem()\n",
        "print(f'Porcentagem de homens: {porcentagem_homens:.2f}%')\n",
        "print(f'Porcentagem de mulheres: {porcentagem_mulheres:.2f}%')\n",
        "\n",
        "\n"
      ],
      "metadata": {
        "id": "3wZDjRn03xB0",
        "colab": {
          "base_uri": "https://localhost:8080/"
        },
        "outputId": "36462858-5384-442f-def8-68dbe0fb55a2"
      },
      "execution_count": null,
      "outputs": [
        {
          "output_type": "stream",
          "name": "stdout",
          "text": [
            "Porcentagem de homens: 57.16%\n",
            "Porcentagem de mulheres: 42.84%\n"
          ]
        }
      ]
    },
    {
      "cell_type": "markdown",
      "source": [
        "Qual foi o gasto por ano?"
      ],
      "metadata": {
        "id": "Nou_jojr3ztM"
      }
    },
    {
      "cell_type": "code",
      "source": [
        "from collections import defaultdict"
      ],
      "metadata": {
        "id": "2hd9RY9I5IPe"
      },
      "execution_count": 12,
      "outputs": []
    },
    {
      "cell_type": "code",
      "source": [
        "def gasto_por_ano(caminho_csv):\n",
        "    gastos_por_ano = defaultdict(float)\n",
        "\n",
        "    with open(caminho_csv, newline='', encoding='utf-8') as csvfile:\n",
        "        leitor_csv = csv.DictReader(csvfile)\n",
        "        for linha in leitor_csv:\n",
        "            ano = int(linha['ano'])\n",
        "            gasto = float(linha['compra'])\n",
        "            gastos_por_ano[ano] += gasto\n",
        "\n",
        "    return dict(gastos_por_ano)\n",
        "\n",
        "caminho_csv = 'compras.csv'\n",
        "gastos_por_ano = gasto_por_ano(caminho_csv)\n",
        "for ano, gasto in gastos_por_ano.items():\n",
        "    print(f'No ano {ano}, o gasto total foi de {gasto:.2f}.')\n"
      ],
      "metadata": {
        "id": "hjBuBCDb30YI",
        "colab": {
          "base_uri": "https://localhost:8080/"
        },
        "outputId": "3665f0f1-ab9c-4757-ec3f-6b3786c7bba8"
      },
      "execution_count": 13,
      "outputs": [
        {
          "output_type": "stream",
          "name": "stdout",
          "text": [
            "No ano 2006, o gasto total foi de 1671499.00.\n",
            "No ano 2005, o gasto total foi de 1542645.00.\n",
            "No ano 2010, o gasto total foi de 1611940.00.\n",
            "No ano 2007, o gasto total foi de 1711268.00.\n",
            "No ano 2018, o gasto total foi de 1778911.00.\n",
            "No ano 2019, o gasto total foi de 1717606.00.\n",
            "No ano 2008, o gasto total foi de 1475291.00.\n",
            "No ano 2009, o gasto total foi de 1518779.00.\n",
            "No ano 2015, o gasto total foi de 1514146.00.\n",
            "No ano 2011, o gasto total foi de 1668563.00.\n",
            "No ano 2012, o gasto total foi de 1642695.00.\n",
            "No ano 2017, o gasto total foi de 1645386.00.\n",
            "No ano 2016, o gasto total foi de 1812226.00.\n",
            "No ano 2014, o gasto total foi de 1671750.00.\n",
            "No ano 2020, o gasto total foi de 1515322.00.\n",
            "No ano 2013, o gasto total foi de 1647590.00.\n"
          ]
        }
      ]
    },
    {
      "cell_type": "markdown",
      "source": [
        "Qual foi o ano com maior gasto?"
      ],
      "metadata": {
        "id": "vgN3teMQ32pg"
      }
    },
    {
      "cell_type": "code",
      "source": [
        "def ano_maior_gasto(caminho_csv):\n",
        "    gastos_por_ano = defaultdict(float)\n",
        "\n",
        "    with open(caminho_csv, newline='', encoding='utf-8') as csvfile:\n",
        "        leitor_csv = csv.DictReader(csvfile)\n",
        "        for linha in leitor_csv:\n",
        "            ano = int(linha['ano'])\n",
        "            gasto = float(linha['compra'])\n",
        "            gastos_por_ano[ano] += gasto\n",
        "\n",
        "    ano_maior_gasto = max(gastos_por_ano, key=gastos_por_ano.get)\n",
        "    maior_gasto = gastos_por_ano[ano_maior_gasto]\n",
        "\n",
        "    return ano_maior_gasto, maior_gasto\n",
        "\n",
        "caminho_csv = 'compras.csv'\n",
        "ano, gasto = ano_maior_gasto(caminho_csv)\n",
        "print(f'O ano com o maior gasto foi o de {ano}.')"
      ],
      "metadata": {
        "id": "JmN_ZHBV35ss",
        "colab": {
          "base_uri": "https://localhost:8080/"
        },
        "outputId": "ad2040cc-6f66-4f3e-a1d0-f0f1d4f63961"
      },
      "execution_count": 14,
      "outputs": [
        {
          "output_type": "stream",
          "name": "stdout",
          "text": [
            "O ano com o maior gasto foi o de 2016.\n"
          ]
        }
      ]
    },
    {
      "cell_type": "markdown",
      "source": [
        "Utilizando as faixas etárias, diga quantas pessoas há em cada faixa?"
      ],
      "metadata": {
        "id": "V_y9EX0p34-E"
      }
    },
    {
      "cell_type": "code",
      "source": [
        "def contar_pessoas_por_faixa_etaria(caminho_csv):\n",
        "    faixas_etarias = {\n",
        "        \"0-18\": 0,\n",
        "        \"19-30\": 0,\n",
        "        \"31-45\": 0,\n",
        "        \"46-60\": 0,\n",
        "        \"61+\": 0\n",
        "    }\n",
        "    with open(caminho_csv, newline='', encoding='utf-8') as csvfile:\n",
        "        leitor_csv = csv.DictReader(csvfile)\n",
        "        for linha in leitor_csv:\n",
        "            idade = int(linha['idade'])\n",
        "            if idade <= 18:\n",
        "                faixas_etarias[\"0-18\"] += 1\n",
        "            elif 19 <= idade <= 30:\n",
        "                faixas_etarias[\"19-30\"] += 1\n",
        "            elif 31 <= idade <= 45:\n",
        "                faixas_etarias[\"31-45\"] += 1\n",
        "            elif 46 <= idade <= 60:\n",
        "                faixas_etarias[\"46-60\"] += 1\n",
        "            else:\n",
        "                faixas_etarias[\"61+\"] += 1\n",
        "\n",
        "    return faixas_etarias\n",
        "\n",
        "# Exemplo de uso\n",
        "caminho_csv = 'compras.csv'\n",
        "pessoas_por_faixa_etaria = contar_pessoas_por_faixa_etaria(caminho_csv)\n",
        "for faixa, quantidade in pessoas_por_faixa_etaria.items():\n",
        "    print(f'Faixa etária {faixa}: {quantidade} pessoas.')"
      ],
      "metadata": {
        "id": "ukkjPSE738r8",
        "colab": {
          "base_uri": "https://localhost:8080/"
        },
        "outputId": "018cb2fc-f2ed-4a4e-d2bc-c5cd4fc8000c"
      },
      "execution_count": 15,
      "outputs": [
        {
          "output_type": "stream",
          "name": "stdout",
          "text": [
            "Faixa etária 0-18: 91 pessoas.\n",
            "Faixa etária 19-30: 1104 pessoas.\n",
            "Faixa etária 31-45: 1452 pessoas.\n",
            "Faixa etária 46-60: 1461 pessoas.\n",
            "Faixa etária 61+: 892 pessoas.\n"
          ]
        }
      ]
    },
    {
      "cell_type": "markdown",
      "source": [
        "Qual é a faixa etária que mais gasta?"
      ],
      "metadata": {
        "id": "_7qmp-1y36Ac"
      }
    },
    {
      "cell_type": "code",
      "source": [
        "import csv\n",
        "from collections import defaultdict\n",
        "\n",
        "def gasto_por_faixa_etaria(caminho_csv):\n",
        "    faixas_etarias = {\n",
        "        \"0-18\": 0.0,\n",
        "        \"19-30\": 0.0,\n",
        "        \"31-45\": 0.0,\n",
        "        \"46-60\": 0.0,\n",
        "        \"61+\": 0.0\n",
        "    }\n",
        "\n",
        "    with open(caminho_csv, newline='', encoding='utf-8') as csvfile:\n",
        "        leitor_csv = csv.DictReader(csvfile)\n",
        "        for linha in leitor_csv:\n",
        "            idade = int(linha['idade'])\n",
        "            gasto = float(linha['compra'])\n",
        "            if idade <= 18:\n",
        "                faixas_etarias[\"0-18\"] += gasto\n",
        "            elif 19 <= idade <= 30:\n",
        "                faixas_etarias[\"19-30\"] += gasto\n",
        "            elif 31 <= idade <= 45:\n",
        "                faixas_etarias[\"31-45\"] += gasto\n",
        "            elif 46 <= idade <= 60:\n",
        "                faixas_etarias[\"46-60\"] += gasto\n",
        "            else:\n",
        "                faixas_etarias[\"61+\"] += gasto\n",
        "\n",
        "    faixa_que_mais_gasta = max(faixas_etarias, key=faixas_etarias.get)\n",
        "    maior_gasto = faixas_etarias[faixa_que_mais_gasta]\n",
        "\n",
        "    return faixa_que_mais_gasta, maior_gasto\n",
        "\n",
        "caminho_csv = 'compras.csv'\n",
        "faixa, compra = gasto_por_faixa_etaria(caminho_csv)\n",
        "print(f'A faixa etária que mais gasta é {faixa}, com um gasto total de R${gasto:.2f}.')"
      ],
      "metadata": {
        "id": "O0_Wt4I838V0",
        "colab": {
          "base_uri": "https://localhost:8080/"
        },
        "outputId": "5a7eb523-9290-4346-f2b6-1c539a0094ce"
      },
      "execution_count": 17,
      "outputs": [
        {
          "output_type": "stream",
          "name": "stdout",
          "text": [
            "A faixa etária que mais gasta é 46-60, com um gasto total de R$1812226.00.\n"
          ]
        }
      ]
    },
    {
      "cell_type": "markdown",
      "source": [
        "A opção de débito é mais utilizada entre homens ou mulheres?"
      ],
      "metadata": {
        "id": "L_EUiizw3-jM"
      }
    },
    {
      "cell_type": "code",
      "source": [
        "\n",
        "def debito_por_genero(caminho_csv):\n",
        "    uso_debito = {'M': 0, 'F': 0}\n",
        "\n",
        "    with open(caminho_csv, newline='', encoding='utf-8') as csvfile:\n",
        "        leitor_csv = csv.DictReader(csvfile)\n",
        "        for linha in leitor_csv:\n",
        "            genero = linha['sexo']\n",
        "            metodo_pagamento = linha['pagamento']\n",
        "            if metodo_pagamento.lower() == 'debito':\n",
        "                uso_debito[genero] += 1\n",
        "\n",
        "    if uso_debito['M'] > uso_debito['F']:\n",
        "        genero_mais_usa = 'Homens'\n",
        "    elif uso_debito['F'] > uso_debito['M']:\n",
        "        genero_mais_usa = 'Mulheres'\n",
        "    else:\n",
        "        genero_mais_usa = 'Igual'\n",
        "\n",
        "    return genero_mais_usa, uso_debito['M'], uso_debito['F']\n",
        "\n",
        "caminho_csv = 'compras.csv'\n",
        "genero_mais_usa, total_homens, total_mulheres = debito_por_genero(caminho_csv)\n",
        "print(f'O débito é mais utilizado por: {genero_mais_usa}')\n",
        "print(f'Total de homens que utilizam débito: {total_homens}')\n",
        "print(f'Total de mulheres que utilizam débito: {total_mulheres}')"
      ],
      "metadata": {
        "id": "dIKB7PXj3_DE",
        "colab": {
          "base_uri": "https://localhost:8080/"
        },
        "outputId": "ffa3562f-93c5-407c-d77c-929e2dbf4031"
      },
      "execution_count": 18,
      "outputs": [
        {
          "output_type": "stream",
          "name": "stdout",
          "text": [
            "O débito é mais utilizado por: Homens\n",
            "Total de homens que utilizam débito: 954\n",
            "Total de mulheres que utilizam débito: 731\n"
          ]
        }
      ]
    },
    {
      "cell_type": "markdown",
      "source": [
        "Qual o sobrenome que mais aparece na base de dados?"
      ],
      "metadata": {
        "id": "jOMpl3Th4Bkm"
      }
    },
    {
      "cell_type": "code",
      "source": [
        "def sobrenome_mais_frequente(caminho_csv):\n",
        "    contagem_sobrenomes = defaultdict(int)\n",
        "\n",
        "    with open(caminho_csv, newline='', encoding='utf-8') as csvfile:\n",
        "        leitor_csv = csv.DictReader(csvfile)\n",
        "        for linha in leitor_csv:\n",
        "            sobrenome = linha['sobrenome']\n",
        "            contagem_sobrenomes[sobrenome] += 1\n",
        "\n",
        "    sobrenome_mais_comum = max(contagem_sobrenomes, key=contagem_sobrenomes.get)\n",
        "    frequencia = contagem_sobrenomes[sobrenome_mais_comum]\n",
        "\n",
        "    return sobrenome_mais_comum, frequencia\n",
        "\n",
        "caminho_csv = 'compras.csv'\n",
        "sobrenome, frequencia = sobrenome_mais_frequente(caminho_csv)\n",
        "print(f'O sobrenome que mais aparece é {sobrenome}, aparecendo {frequencia} vezes.')"
      ],
      "metadata": {
        "id": "LDFe_62s4B_Q",
        "colab": {
          "base_uri": "https://localhost:8080/"
        },
        "outputId": "6e353151-45fd-49f7-bbf2-f9d7cf6cd2d0"
      },
      "execution_count": 19,
      "outputs": [
        {
          "output_type": "stream",
          "name": "stdout",
          "text": [
            "O sobrenome que mais aparece é Alves, aparecendo 768 vezes.\n"
          ]
        }
      ]
    },
    {
      "cell_type": "markdown",
      "source": [
        "Qual foi o ano em que os homens mais usaram o crédito?"
      ],
      "metadata": {
        "id": "Q7VS9K_Q4ECM"
      }
    },
    {
      "cell_type": "code",
      "source": [
        "def ano_homens_mais_uso_credito(caminho_csv):\n",
        "    uso_credito_por_ano = defaultdict(int)\n",
        "\n",
        "    with open(caminho_csv, newline='', encoding='utf-8') as csvfile:\n",
        "        leitor_csv = csv.DictReader(csvfile)\n",
        "        for linha in leitor_csv:\n",
        "            genero = linha['sexo']\n",
        "            ano = int(linha['ano'])\n",
        "            metodo_pagamento = linha['pagamento']\n",
        "            if genero == 'M' and metodo_pagamento.lower() == 'credito':\n",
        "                uso_credito_por_ano[ano] += 1\n",
        "\n",
        "    ano_mais_uso_credito = max(uso_credito_por_ano, key=uso_credito_por_ano.get)\n",
        "    quantidade_uso_credito = uso_credito_por_ano[ano_mais_uso_credito]\n",
        "\n",
        "    return ano_mais_uso_credito, quantidade_uso_credito\n",
        "\n",
        "caminho_csv = 'compras.csv'\n",
        "ano, quantidade = ano_homens_mais_uso_credito(caminho_csv)\n",
        "print(f'O ano em que os homens mais usaram crédito foi {ano}, com {quantidade} usos.')"
      ],
      "metadata": {
        "colab": {
          "base_uri": "https://localhost:8080/"
        },
        "id": "yIj1Gp-d7H4G",
        "outputId": "7b4a1089-b2ca-4799-cc96-a3df553efa8b"
      },
      "execution_count": 21,
      "outputs": [
        {
          "output_type": "stream",
          "name": "stdout",
          "text": [
            "O ano em que os homens mais usaram crédito foi 2018, com 71 usos.\n"
          ]
        }
      ]
    },
    {
      "cell_type": "markdown",
      "source": [
        "Qual opção de pagamento é mais utilizada em cada faixa etária?"
      ],
      "metadata": {
        "id": "ebnmp5KD4GPw"
      }
    },
    {
      "cell_type": "code",
      "source": [
        "def opcoes_pagamento_por_faixa_etaria(caminho_csv):\n",
        "    faixas_etarias = {\n",
        "        \"0-18\": defaultdict(int),\n",
        "        \"19-30\": defaultdict(int),\n",
        "        \"31-45\": defaultdict(int),\n",
        "        \"46-60\": defaultdict(int),\n",
        "        \"61+\": defaultdict(int)\n",
        "    }\n",
        "\n",
        "    with open(caminho_csv, newline='', encoding='utf-8') as csvfile:\n",
        "        leitor_csv = csv.DictReader(csvfile)\n",
        "        for linha in leitor_csv:\n",
        "            idade = int(linha['idade'])\n",
        "            metodo_pagamento = linha['pagamento']\n",
        "            if idade <= 18:\n",
        "                faixa = \"0-18\"\n",
        "            elif 19 <= idade <= 30:\n",
        "                faixa = \"19-30\"\n",
        "            elif 31 <= idade <= 45:\n",
        "                faixa = \"31-45\"\n",
        "            elif 46 <= idade <= 60:\n",
        "                faixa = \"46-60\"\n",
        "            else:\n",
        "                faixa = \"61+\"\n",
        "            faixas_etarias[faixa][metodo_pagamento] += 1\n",
        "\n",
        "    return faixas_etarias\n",
        "\n",
        "caminho_csv = 'compras.csv'\n",
        "faixas_etarias_pagamento = opcoes_pagamento_por_faixa_etaria(caminho_csv)\n",
        "for faixa, pagamentos in faixas_etarias_pagamento.items():\n",
        "    print(f'Faixa etária {faixa}:')\n",
        "    for metodo, quantidade in pagamentos.items():\n",
        "        print(f'  Método de pagamento {metodo}: {quantidade} vezes')"
      ],
      "metadata": {
        "id": "5H60b3n64Ee0",
        "colab": {
          "base_uri": "https://localhost:8080/"
        },
        "outputId": "9794e250-5d38-4f33-d0a1-2332839fb30c"
      },
      "execution_count": 20,
      "outputs": [
        {
          "output_type": "stream",
          "name": "stdout",
          "text": [
            "Faixa etária 0-18:\n",
            "  Método de pagamento debito: 28 vezes\n",
            "  Método de pagamento credito: 32 vezes\n",
            "  Método de pagamento dinheiro: 31 vezes\n",
            "Faixa etária 19-30:\n",
            "  Método de pagamento dinheiro: 374 vezes\n",
            "  Método de pagamento credito: 352 vezes\n",
            "  Método de pagamento debito: 378 vezes\n",
            "Faixa etária 31-45:\n",
            "  Método de pagamento credito: 490 vezes\n",
            "  Método de pagamento dinheiro: 485 vezes\n",
            "  Método de pagamento debito: 477 vezes\n",
            "Faixa etária 46-60:\n",
            "  Método de pagamento debito: 502 vezes\n",
            "  Método de pagamento dinheiro: 476 vezes\n",
            "  Método de pagamento credito: 483 vezes\n",
            "Faixa etária 61+:\n",
            "  Método de pagamento credito: 290 vezes\n",
            "  Método de pagamento debito: 300 vezes\n",
            "  Método de pagamento dinheiro: 302 vezes\n"
          ]
        }
      ]
    },
    {
      "cell_type": "markdown",
      "source": [
        "Qual o valor gasto em compras por jovens do ano de 2010 até 2015?"
      ],
      "metadata": {
        "id": "jRKhI6Dv4IQJ"
      }
    },
    {
      "cell_type": "code",
      "source": [
        "def valor_gasto_por_jovens(caminho_csv):\n",
        "    valor_total_gasto = 0\n",
        "\n",
        "    with open(caminho_csv, newline='', encoding='utf-8') as csvfile:\n",
        "        leitor_csv = csv.DictReader(csvfile)\n",
        "        for linha in leitor_csv:\n",
        "            idade = int(linha['idade'])\n",
        "            ano = int(linha['ano'])\n",
        "            gasto = float(linha['compra'])\n",
        "            if 19 <= idade <= 30 and 2010 <= ano <= 2015:\n",
        "                valor_total_gasto += gasto\n",
        "\n",
        "    return valor_total_gasto\n",
        "\n",
        "caminho_csv = 'compras.csv'\n",
        "valor_total_gasto_jovens = valor_gasto_por_jovens(caminho_csv)\n",
        "print(f'O valor total gasto em compras por jovens do ano de 2010 a 2015 foi de R${valor_total_gasto_jovens:.2f}.')"
      ],
      "metadata": {
        "id": "6SXstcF54Itk",
        "colab": {
          "base_uri": "https://localhost:8080/"
        },
        "outputId": "ee2cb6a2-8493-4671-eb8a-50799e86263b"
      },
      "execution_count": 22,
      "outputs": [
        {
          "output_type": "stream",
          "name": "stdout",
          "text": [
            "O valor total gasto em compras por jovens do ano de 2010 a 2015 foi de R$2021385.00.\n"
          ]
        }
      ]
    }
  ]
}