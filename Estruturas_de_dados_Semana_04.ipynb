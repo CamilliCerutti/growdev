{
  "nbformat": 4,
  "nbformat_minor": 0,
  "metadata": {
    "colab": {
      "provenance": [],
      "include_colab_link": true
    },
    "kernelspec": {
      "name": "python3",
      "display_name": "Python 3"
    },
    "language_info": {
      "name": "python"
    }
  },
  "cells": [
    {
      "cell_type": "markdown",
      "metadata": {
        "id": "view-in-github",
        "colab_type": "text"
      },
      "source": [
        "<a href=\"https://colab.research.google.com/github/CamilliCerutti/growdev/blob/main/Estruturas_de_dados_Semana_04.ipynb\" target=\"_parent\"><img src=\"https://colab.research.google.com/assets/colab-badge.svg\" alt=\"Open In Colab\"/></a>"
      ]
    },
    {
      "cell_type": "markdown",
      "source": [
        "![Growdev](https://www.growdev.com.br/assets/images/logo_growdev.png)"
      ],
      "metadata": {
        "id": "v8pFWwviib2C"
      }
    },
    {
      "cell_type": "markdown",
      "source": [
        "![Formação Engenharia de Dados](https://d335luupugsy2.cloudfront.net/cms/files/524558/1707226566/$occu5m8t1op)"
      ],
      "metadata": {
        "id": "6Tkl4_HxifXZ"
      }
    },
    {
      "cell_type": "markdown",
      "source": [
        "Este material tem como objetivo incentivar a prática dos conteúdos estudados até o momento, e a pesquisa. Tenha em consideração que o exercício foi pensado para incentivar a prática dos conteúdos estudados até então, porém aprender a pesquisar faz parte do processo de aprendizagem.\n",
        "\n",
        "Fique tranquilo, faça os exercícios com calma, e boa prática!\n"
      ],
      "metadata": {
        "id": "ty7Bzyl1i9bN"
      }
    },
    {
      "cell_type": "markdown",
      "source": [
        "#Orientações:\n",
        "\n",
        " - Faça uma copia deste arquivo\n",
        " - Após concluir os exercicios, suba seu exercicio para o GitHub e compartilhe o link no **google** Classroom\n"
      ],
      "metadata": {
        "id": "DU5-yCQwjx3V"
      }
    },
    {
      "cell_type": "markdown",
      "source": [
        "#Exercícios"
      ],
      "metadata": {
        "id": "EzT810tnlmfE"
      }
    },
    {
      "cell_type": "markdown",
      "source": [
        "#Listas"
      ],
      "metadata": {
        "id": "rDqBAimhSq_C"
      }
    },
    {
      "cell_type": "markdown",
      "source": [
        "Para esse exercicio você tera alguns desafios, separei eles em partes, vamos lá?\n",
        "\n",
        "1 - Crie uma lista com 100 números inteiros.\n",
        "- Pode ser uma sequência, ou caso queira se desafiar faça de números aleatorios.\n",
        "- Os dados não devem ser inseridos manualmente, utilize de um laço de repetição para adicionar os elementos a Lista.\n"
      ],
      "metadata": {
        "id": "GoGkz2n-SudC"
      }
    },
    {
      "cell_type": "code",
      "source": [
        "import random\n"
      ],
      "metadata": {
        "id": "_yqrAia7pXmn"
      },
      "execution_count": null,
      "outputs": []
    },
    {
      "cell_type": "code",
      "source": [
        "lista_num = []\n",
        "while len(lista_num) < 100:\n",
        "  num_aleatorio = random.randint(0,500)\n",
        "  lista_num.append(num_aleatorio)\n",
        "\n",
        "lista_num"
      ],
      "metadata": {
        "id": "lLYBJr0KSuJW",
        "colab": {
          "base_uri": "https://localhost:8080/"
        },
        "outputId": "2bc24997-4a5f-4e38-c241-9d9a57d54258"
      },
      "execution_count": null,
      "outputs": [
        {
          "output_type": "execute_result",
          "data": {
            "text/plain": [
              "[447,\n",
              " 106,\n",
              " 2,\n",
              " 305,\n",
              " 180,\n",
              " 300,\n",
              " 96,\n",
              " 356,\n",
              " 3,\n",
              " 334,\n",
              " 485,\n",
              " 164,\n",
              " 307,\n",
              " 443,\n",
              " 411,\n",
              " 275,\n",
              " 139,\n",
              " 227,\n",
              " 91,\n",
              " 420,\n",
              " 8,\n",
              " 237,\n",
              " 355,\n",
              " 4,\n",
              " 136,\n",
              " 312,\n",
              " 438,\n",
              " 219,\n",
              " 107,\n",
              " 101,\n",
              " 183,\n",
              " 63,\n",
              " 457,\n",
              " 74,\n",
              " 306,\n",
              " 151,\n",
              " 483,\n",
              " 374,\n",
              " 382,\n",
              " 166,\n",
              " 39,\n",
              " 9,\n",
              " 93,\n",
              " 318,\n",
              " 454,\n",
              " 440,\n",
              " 81,\n",
              " 447,\n",
              " 221,\n",
              " 419,\n",
              " 257,\n",
              " 342,\n",
              " 429,\n",
              " 377,\n",
              " 433,\n",
              " 85,\n",
              " 126,\n",
              " 311,\n",
              " 270,\n",
              " 57,\n",
              " 69,\n",
              " 135,\n",
              " 485,\n",
              " 493,\n",
              " 331,\n",
              " 498,\n",
              " 489,\n",
              " 218,\n",
              " 207,\n",
              " 331,\n",
              " 35,\n",
              " 102,\n",
              " 450,\n",
              " 76,\n",
              " 26,\n",
              " 403,\n",
              " 180,\n",
              " 160,\n",
              " 493,\n",
              " 3,\n",
              " 440,\n",
              " 182,\n",
              " 293,\n",
              " 138,\n",
              " 330,\n",
              " 491,\n",
              " 356,\n",
              " 56,\n",
              " 87,\n",
              " 87,\n",
              " 253,\n",
              " 32,\n",
              " 468,\n",
              " 249,\n",
              " 54,\n",
              " 116,\n",
              " 377,\n",
              " 113,\n",
              " 329,\n",
              " 497]"
            ]
          },
          "metadata": {},
          "execution_count": 3
        }
      ]
    },
    {
      "cell_type": "markdown",
      "source": [
        "2 - Calcule e exiba a soma de todos os números da lista."
      ],
      "metadata": {
        "id": "LQ0SVqxyVTD5"
      }
    },
    {
      "cell_type": "code",
      "source": [
        "print(sum(lista_num))"
      ],
      "metadata": {
        "id": "6HP8yU1bVS0F",
        "colab": {
          "base_uri": "https://localhost:8080/"
        },
        "outputId": "b2db4d9e-428e-4c19-b640-efe702ae3419"
      },
      "execution_count": null,
      "outputs": [
        {
          "output_type": "stream",
          "name": "stdout",
          "text": [
            "24987\n"
          ]
        }
      ]
    },
    {
      "cell_type": "markdown",
      "source": [
        "3 - Exiba o maior e o menor número da lista."
      ],
      "metadata": {
        "id": "HYQGLklTTPMx"
      }
    },
    {
      "cell_type": "code",
      "source": [
        "print(f\"O maior numero da lista é: {max(lista_num)}\\nO menor numero da lista é: {min(lista_num)}\")"
      ],
      "metadata": {
        "id": "q_UZx7EETT6S",
        "colab": {
          "base_uri": "https://localhost:8080/"
        },
        "outputId": "cafef7f5-12d9-43fb-d975-987f26968bb3"
      },
      "execution_count": null,
      "outputs": [
        {
          "output_type": "stream",
          "name": "stdout",
          "text": [
            "O maior numero da lista é: 498\n",
            "O menor numero da lista é: 2\n"
          ]
        }
      ]
    },
    {
      "cell_type": "markdown",
      "source": [
        "4 - Pesquise se o número 77 esta presente na lista e exiba:\n",
        "- Quantas vezes esse número aparece na lista\n",
        "- Se aparece em qual ou quais posições(Indice)."
      ],
      "metadata": {
        "id": "1iU6ZtRhVN9i"
      }
    },
    {
      "cell_type": "code",
      "source": [
        "lista_num.append(77)"
      ],
      "metadata": {
        "id": "Syi513uxsFUA"
      },
      "execution_count": null,
      "outputs": []
    },
    {
      "cell_type": "code",
      "source": [
        "aparicao = 0\n",
        "indice = 0\n",
        "lista_indice = []\n",
        "for numero in lista_num:\n",
        "  if numero == 77:\n",
        "    aparicao +=1\n",
        "    lista_indice.append(indice)\n",
        "  indice += 1\n",
        "\n",
        "\n",
        "print(f\"O numero 77 aparece {aparicao} vezes\\nNas posições: {lista_indice}\")\n"
      ],
      "metadata": {
        "id": "OGVH4AoGWU2R",
        "colab": {
          "base_uri": "https://localhost:8080/"
        },
        "outputId": "e73e7c4f-4660-461a-cf4b-7a198f61945f"
      },
      "execution_count": null,
      "outputs": [
        {
          "output_type": "stream",
          "name": "stdout",
          "text": [
            "O numero 77 aparece 2 vezes\n",
            "Nas posições: [100, 101]\n"
          ]
        }
      ]
    },
    {
      "cell_type": "markdown",
      "source": [
        "5 - Ordene a lista de forma descendente e exiba."
      ],
      "metadata": {
        "id": "jrwycUMvWVSu"
      }
    },
    {
      "cell_type": "code",
      "source": [
        "lista_num.sort()\n",
        "lista_num"
      ],
      "metadata": {
        "id": "RvRpLp87e5CB",
        "colab": {
          "base_uri": "https://localhost:8080/"
        },
        "outputId": "ab087dd2-1f1c-4470-c527-492d05e9739b"
      },
      "execution_count": null,
      "outputs": [
        {
          "output_type": "execute_result",
          "data": {
            "text/plain": [
              "[2,\n",
              " 3,\n",
              " 3,\n",
              " 4,\n",
              " 8,\n",
              " 9,\n",
              " 26,\n",
              " 32,\n",
              " 35,\n",
              " 39,\n",
              " 54,\n",
              " 56,\n",
              " 57,\n",
              " 63,\n",
              " 69,\n",
              " 74,\n",
              " 76,\n",
              " 77,\n",
              " 77,\n",
              " 81,\n",
              " 85,\n",
              " 87,\n",
              " 87,\n",
              " 91,\n",
              " 93,\n",
              " 96,\n",
              " 101,\n",
              " 102,\n",
              " 106,\n",
              " 107,\n",
              " 113,\n",
              " 116,\n",
              " 126,\n",
              " 135,\n",
              " 136,\n",
              " 138,\n",
              " 139,\n",
              " 151,\n",
              " 160,\n",
              " 164,\n",
              " 166,\n",
              " 180,\n",
              " 180,\n",
              " 182,\n",
              " 183,\n",
              " 207,\n",
              " 218,\n",
              " 219,\n",
              " 221,\n",
              " 227,\n",
              " 237,\n",
              " 249,\n",
              " 253,\n",
              " 257,\n",
              " 270,\n",
              " 275,\n",
              " 293,\n",
              " 300,\n",
              " 305,\n",
              " 306,\n",
              " 307,\n",
              " 311,\n",
              " 312,\n",
              " 318,\n",
              " 329,\n",
              " 330,\n",
              " 331,\n",
              " 331,\n",
              " 334,\n",
              " 342,\n",
              " 355,\n",
              " 356,\n",
              " 356,\n",
              " 374,\n",
              " 377,\n",
              " 377,\n",
              " 382,\n",
              " 403,\n",
              " 411,\n",
              " 419,\n",
              " 420,\n",
              " 429,\n",
              " 433,\n",
              " 438,\n",
              " 440,\n",
              " 440,\n",
              " 443,\n",
              " 447,\n",
              " 447,\n",
              " 450,\n",
              " 454,\n",
              " 457,\n",
              " 468,\n",
              " 483,\n",
              " 485,\n",
              " 485,\n",
              " 489,\n",
              " 491,\n",
              " 493,\n",
              " 493,\n",
              " 497,\n",
              " 498]"
            ]
          },
          "metadata": {},
          "execution_count": 18
        }
      ]
    },
    {
      "cell_type": "markdown",
      "source": [
        "## Tuplas:"
      ],
      "metadata": {
        "id": "Be68CsC2OftE"
      }
    },
    {
      "cell_type": "markdown",
      "source": [
        "Crie uma tupla com os dias da semana e peça para o usuário digitar um número de 1 a 7. Exiba o dia correspondente."
      ],
      "metadata": {
        "id": "SQzRrAmq1SnR"
      }
    },
    {
      "cell_type": "code",
      "source": [
        "dias_semana = (\"Domingo\", \"Segunda\", \"Terça\", \"Quarta\", \"Quinta\", \"Sexta\", \"Sabado\", \"Domingo\")"
      ],
      "metadata": {
        "id": "7BqDEfeq1TZE"
      },
      "execution_count": 1,
      "outputs": []
    },
    {
      "cell_type": "code",
      "source": [
        "usuario = int(input(\"Digite um numero entre 1 e 7: \"))\n",
        "dia = dias_semana[usuario - 1]\n",
        "\n",
        "print(f\"O dia da semana é {dia}\")"
      ],
      "metadata": {
        "colab": {
          "base_uri": "https://localhost:8080/"
        },
        "id": "PnCTJd86D2mA",
        "outputId": "936a3a2d-98f9-4dbd-b6cd-c2bf56f8c592"
      },
      "execution_count": 3,
      "outputs": [
        {
          "output_type": "stream",
          "name": "stdout",
          "text": [
            "Digite um numero entre 1 e 7: 2\n",
            "O dia da semana é Segunda\n"
          ]
        }
      ]
    },
    {
      "cell_type": "markdown",
      "source": [
        "Crie duas tuplas com números inteiros e crie uma terceira tupla com a concatenação das duas."
      ],
      "metadata": {
        "id": "J9LW9fru7hv6"
      }
    },
    {
      "cell_type": "code",
      "source": [
        "tupla1 = (1, 4, 6, 7)\n",
        "tupla2 = (4, 5, 3,9)\n",
        "\n",
        "tupla3 = tupla1 + tupla2\n",
        "\n",
        "print(tupla3)"
      ],
      "metadata": {
        "id": "J2pBsS-f7idJ",
        "colab": {
          "base_uri": "https://localhost:8080/"
        },
        "outputId": "bde4a68a-78d1-4264-b122-791d0d88d9ed"
      },
      "execution_count": 4,
      "outputs": [
        {
          "output_type": "stream",
          "name": "stdout",
          "text": [
            "(1, 4, 6, 7, 4, 5, 3, 9)\n"
          ]
        }
      ]
    },
    {
      "cell_type": "markdown",
      "source": [
        "#Sets"
      ],
      "metadata": {
        "id": "v_JM0Has1pPL"
      }
    },
    {
      "cell_type": "markdown",
      "source": [
        "Crie dois sets com cores diferentes e exiba na tela a união dos dois sets."
      ],
      "metadata": {
        "id": "Urrv-Y291roJ"
      }
    },
    {
      "cell_type": "code",
      "source": [
        "cores_1 = {\"roxo\", \"Azul\", \"verde\"}\n",
        "cores_2 = {\"Amarelo\", \"rosa\", \"Preto\"}\n",
        "\n",
        "cores_1.union(cores_2)"
      ],
      "metadata": {
        "id": "FM4S-PEa1zSW",
        "colab": {
          "base_uri": "https://localhost:8080/"
        },
        "outputId": "0e69d4cf-43b4-4ede-e6f0-50a7f72acc79"
      },
      "execution_count": null,
      "outputs": [
        {
          "output_type": "execute_result",
          "data": {
            "text/plain": [
              "{'Amarelo', 'Azul', 'Preto', 'rosa', 'roxo', 'verde'}"
            ]
          },
          "metadata": {},
          "execution_count": 19
        }
      ]
    },
    {
      "cell_type": "markdown",
      "source": [
        "Crie uma lista com alguns números repetidos. Converta essa lista em um set para remover as duplicatas e exiba o resultado."
      ],
      "metadata": {
        "id": "0q0tG4eG1zkL"
      }
    },
    {
      "cell_type": "code",
      "source": [
        "lista_sem_duplicacao = set(lista_num)\n",
        "lista_sem_duplicacao"
      ],
      "metadata": {
        "id": "j4okoTWR2I_R",
        "colab": {
          "base_uri": "https://localhost:8080/"
        },
        "outputId": "894294c8-c3fd-4fea-a313-7d9ece81d750"
      },
      "execution_count": null,
      "outputs": [
        {
          "output_type": "execute_result",
          "data": {
            "text/plain": [
              "{2,\n",
              " 3,\n",
              " 4,\n",
              " 8,\n",
              " 9,\n",
              " 26,\n",
              " 32,\n",
              " 35,\n",
              " 39,\n",
              " 54,\n",
              " 56,\n",
              " 57,\n",
              " 63,\n",
              " 69,\n",
              " 74,\n",
              " 76,\n",
              " 77,\n",
              " 81,\n",
              " 85,\n",
              " 87,\n",
              " 91,\n",
              " 93,\n",
              " 96,\n",
              " 101,\n",
              " 102,\n",
              " 106,\n",
              " 107,\n",
              " 113,\n",
              " 116,\n",
              " 126,\n",
              " 135,\n",
              " 136,\n",
              " 138,\n",
              " 139,\n",
              " 151,\n",
              " 160,\n",
              " 164,\n",
              " 166,\n",
              " 180,\n",
              " 182,\n",
              " 183,\n",
              " 207,\n",
              " 218,\n",
              " 219,\n",
              " 221,\n",
              " 227,\n",
              " 237,\n",
              " 249,\n",
              " 253,\n",
              " 257,\n",
              " 270,\n",
              " 275,\n",
              " 293,\n",
              " 300,\n",
              " 305,\n",
              " 306,\n",
              " 307,\n",
              " 311,\n",
              " 312,\n",
              " 318,\n",
              " 329,\n",
              " 330,\n",
              " 331,\n",
              " 334,\n",
              " 342,\n",
              " 355,\n",
              " 356,\n",
              " 374,\n",
              " 377,\n",
              " 382,\n",
              " 403,\n",
              " 411,\n",
              " 419,\n",
              " 420,\n",
              " 429,\n",
              " 433,\n",
              " 438,\n",
              " 440,\n",
              " 443,\n",
              " 447,\n",
              " 450,\n",
              " 454,\n",
              " 457,\n",
              " 468,\n",
              " 483,\n",
              " 485,\n",
              " 489,\n",
              " 491,\n",
              " 493,\n",
              " 497,\n",
              " 498}"
            ]
          },
          "metadata": {},
          "execution_count": 20
        }
      ]
    },
    {
      "cell_type": "markdown",
      "source": [
        "#Dicionários:"
      ],
      "metadata": {
        "id": "4MCBgr-k1fvU"
      }
    },
    {
      "cell_type": "markdown",
      "source": [
        " Crie um dicionário com os nomes de algumas frutas e suas respectivas cores. Exiba na tela somente as frutas que são vermelhas."
      ],
      "metadata": {
        "id": "0A-DeyIMPh4g"
      }
    },
    {
      "cell_type": "code",
      "source": [
        "frutas = {\"abacaxi\": \"amarelo\", \"morango\": \"vermelho\", \"tomate\": \"vermelho\", \"banana\":\"amarela\"}"
      ],
      "metadata": {
        "id": "7jlD2DV4Pjom"
      },
      "execution_count": null,
      "outputs": []
    },
    {
      "cell_type": "code",
      "source": [
        "for key, value in frutas.items():\n",
        "  if value == \"vermelho\":\n",
        "    print(key)"
      ],
      "metadata": {
        "colab": {
          "base_uri": "https://localhost:8080/"
        },
        "id": "Qc3Auuwbxco4",
        "outputId": "1e903220-0631-4ee5-c049-f9e1e5c9ab1d"
      },
      "execution_count": null,
      "outputs": [
        {
          "output_type": "stream",
          "name": "stdout",
          "text": [
            "morango\n",
            "tomate\n"
          ]
        }
      ]
    },
    {
      "cell_type": "markdown",
      "source": [
        "\\Crie um dicionário com o nome e a idade de três pessoas. Busque por  um nome e exiba a idade correspondente."
      ],
      "metadata": {
        "id": "q-XV14A-PmSa"
      }
    },
    {
      "cell_type": "code",
      "source": [
        "dados = {\"Marcelo\": 20, \"Roberta\": 15, \"Julia\": 20}\n",
        "\n",
        "nome = input(\"Qual nome voce gostaria de procurar?\")\n",
        "\n",
        "if nome in dados:\n",
        "  print(f\"a idade de {nome} é: {dados[nome]}\")\n",
        "else:\n",
        "  print(\"O nome nao esta na lista\")"
      ],
      "metadata": {
        "id": "8rPH-lzG2gvh",
        "colab": {
          "base_uri": "https://localhost:8080/"
        },
        "outputId": "c8e4191c-1dd9-447a-e323-033737d509a7"
      },
      "execution_count": 2,
      "outputs": [
        {
          "output_type": "stream",
          "name": "stdout",
          "text": [
            "Qual nome voce gostaria de procurar?roberta\n",
            "O nome nao esta na lista\n"
          ]
        }
      ]
    },
    {
      "cell_type": "markdown",
      "source": [
        "Crie um dicionário com os nomes e idades de algumas pessoas. Peça para o usuário digitar um nome e sua nova idade, e atualize o dicionário com essa informação."
      ],
      "metadata": {
        "id": "yEn6q_MP5SdW"
      }
    },
    {
      "cell_type": "code",
      "source": [
        "nome = input(\"Digite Seu nome: \")\n",
        "idade = int(input(\"Digite a sua Idade: \"))\n",
        "\n",
        "dados.update({nome:idade})\n",
        "\n",
        "print(dados)"
      ],
      "metadata": {
        "id": "H-RHnfMm5TcR",
        "colab": {
          "base_uri": "https://localhost:8080/"
        },
        "outputId": "9fd09b9b-864b-44ec-9a61-2466c23567a8"
      },
      "execution_count": 3,
      "outputs": [
        {
          "output_type": "stream",
          "name": "stdout",
          "text": [
            "Digite Seu nome: Camilli\n",
            "Digite a sua Idade: 19\n",
            "{'Marcelo': 20, 'Roberta': 15, 'Julia': 20, 'Camilli': 19}\n"
          ]
        }
      ]
    },
    {
      "cell_type": "markdown",
      "source": [
        "Desafio Dicionários:\n",
        "\n",
        "Busque o código desenvolvido para o exercicio abaixo e altere o algoritmo para:\n",
        "\n",
        " - Salvar o resultado da eleição em um dícionário.\n",
        "\n",
        "\n",
        "Exemplo de saida do dicionario: {\"Candidato 1\": 2, \"Candidato 2\": 2, \"Voto Nulo\": 0, \"Voto Branco\": 1}\n",
        "\n",
        "\n",
        "Este exercicio foi realizado na lista da semana passada, exercicio de número 4:"
      ],
      "metadata": {
        "id": "Jeelh1Xw2hab"
      }
    },
    {
      "cell_type": "markdown",
      "source": [
        "\n",
        "\"Em uma eleição presidencial existem dois candidatos. Os votos são informados através de códigos. Os dados utilizados para a contagem dos votos obedecem à seguinte codificação:\n",
        "\n",
        "1,2 = voto para os respectivos candidatos\n",
        "\n",
        "3 = voto nulo\n",
        "\n",
        "4 = voto em branco;\n",
        "\n",
        "Elabore um programa que leia o código de votação de 5 eleitores. Calcule e escreva: total de votos para cada candidato total de votos nulos total de votos em branco\""
      ],
      "metadata": {
        "id": "cDnoQXk83e5B"
      }
    },
    {
      "cell_type": "code",
      "source": [
        "\n",
        "votos = {\n",
        "    \"Candidato 1\": 0,\n",
        "    \"Candidato 2\": 0,\n",
        "    \"Voto Nulo\": 0,\n",
        "    \"Voto Branco\": 0\n",
        "}\n",
        "\n",
        "for i in range(5):\n",
        "    voto = int(input(f\"Digite o voto {i+1} (1, 2, 3 ou 4): \"))\n",
        "\n",
        "    if voto < 1 or voto > 4:\n",
        "        print(\"O Código de votação está incorreto. Escolha um número entre 1 e 4!\")\n",
        "        voto = int(input(f\"Digite o voto {i+1} (1, 2, 3 ou 4): \"))\n",
        "\n",
        "    if voto == 1:\n",
        "        votos[\"Candidato 1\"] += 1\n",
        "    elif voto == 2:\n",
        "        votos[\"Candidato 2\"] += 1\n",
        "    elif voto == 3:\n",
        "        votos[\"Voto Nulo\"] += 1\n",
        "    elif voto == 4:\n",
        "        votos[\"Voto Branco\"] += 1\n",
        "\n",
        "print(f\"A votação gerou:\\n{votos['Candidato 1']} votos para o Candidato 1\\n{votos['Candidato 2']} votos para o Candidato 2\\n{votos['Voto Nulo']} votos nulos\\n{votos['Voto Branco']} votos em branco\")\n"
      ],
      "metadata": {
        "colab": {
          "base_uri": "https://localhost:8080/"
        },
        "id": "u6BGjQt7frIy",
        "outputId": "0c1cce41-8c63-4a96-a5ec-70b937903913"
      },
      "execution_count": 6,
      "outputs": [
        {
          "output_type": "stream",
          "name": "stdout",
          "text": [
            "Digite o voto 1 (1, 2, 3 ou 4): 2\n",
            "Digite o voto 2 (1, 2, 3 ou 4): 1\n",
            "Digite o voto 3 (1, 2, 3 ou 4): 3\n",
            "Digite o voto 4 (1, 2, 3 ou 4): 4\n",
            "Digite o voto 5 (1, 2, 3 ou 4): 2\n",
            "A votação gerou:\n",
            "1 votos para o Candidato 1\n",
            "2 votos para o Candidato 2\n",
            "1 votos nulos\n",
            "1 votos em branco\n"
          ]
        }
      ]
    },
    {
      "cell_type": "markdown",
      "source": [
        "#Listas por Compreensão:"
      ],
      "metadata": {
        "id": "ffEKF4Kx5eQu"
      }
    },
    {
      "cell_type": "markdown",
      "source": [
        "Crie uma lista com os números Impares de 1 a 20 utilizando listas por compreensão."
      ],
      "metadata": {
        "id": "IrQvRhQM5oj6"
      }
    },
    {
      "cell_type": "code",
      "source": [
        "numeros_impares = [numero for numero in range(1, 21) if numero % 2 != 0]\n",
        "print(numeros_impares)"
      ],
      "metadata": {
        "id": "lqgX2B6x5fLc",
        "colab": {
          "base_uri": "https://localhost:8080/"
        },
        "outputId": "e26e403c-2edf-44a3-ff82-017e2dc15044"
      },
      "execution_count": 8,
      "outputs": [
        {
          "output_type": "stream",
          "name": "stdout",
          "text": [
            "[1, 3, 5, 7, 9, 11, 13, 15, 17, 19]\n"
          ]
        }
      ]
    },
    {
      "cell_type": "markdown",
      "source": [
        ":Crie uma lista com as letras da frase \"Sou estudante de dados\", utilizando\n",
        "\n",
        "\n",
        "\n",
        "listas por compreensão."
      ],
      "metadata": {
        "id": "R2DKj08Z5tqJ"
      }
    },
    {
      "cell_type": "code",
      "source": [
        "frase = \"Sou estudante de dados\"\n",
        "\n",
        "letras = [letra for letra in frase]\n",
        "\n",
        "print(letras)"
      ],
      "metadata": {
        "colab": {
          "base_uri": "https://localhost:8080/"
        },
        "id": "knwtc2XRhAz5",
        "outputId": "9db8eec6-29a5-46af-c269-4d5ac7d52f91"
      },
      "execution_count": 10,
      "outputs": [
        {
          "output_type": "stream",
          "name": "stdout",
          "text": [
            "['S', 'o', 'u', ' ', 'e', 's', 't', 'u', 'd', 'a', 'n', 't', 'e', ' ', 'd', 'e', ' ', 'd', 'a', 'd', 'o', 's']\n"
          ]
        }
      ]
    }
  ]
}